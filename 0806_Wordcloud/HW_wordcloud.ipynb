{
  "cells": [
    {
      "cell_type": "markdown",
      "source": [
        "<h1> 데이콘 영화리뷰 감성분석 경진대회 </h1>\n",
        "\n",
        "어렵지 않으니 스스로 # To do 부분을 채워보시고 고민해봐도 모르겠다면 코드공유를 참고해주세요! 아니면 과제를 다 하시고 설명이 자세히 적혀있는 코드공유로 리뷰를 하셔도 좋습니다"
      ],
      "metadata": {
        "id": "g90kUrOX_P53"
      }
    },
    {
      "cell_type": "markdown",
      "metadata": {
        "id": "n1QU5sygxzX5"
      },
      "source": [
        "# train.csv 학습/검증"
      ]
    },
    {
      "cell_type": "markdown",
      "metadata": {
        "id": "AAcvJqY7xzX8"
      },
      "source": [
        "### 필요한 패키지 불러오기\n"
      ]
    },
    {
      "cell_type": "code",
      "source": [
        "from google.colab import drive\n",
        "drive.mount('/content/drive')"
      ],
      "metadata": {
        "colab": {
          "base_uri": "https://localhost:8080/"
        },
        "id": "dAVQLrGB0gW_",
        "outputId": "326aa4b7-fcc6-4847-b1e2-9dd3786eba74"
      },
      "execution_count": 16,
      "outputs": [
        {
          "output_type": "stream",
          "name": "stdout",
          "text": [
            "Drive already mounted at /content/drive; to attempt to forcibly remount, call drive.mount(\"/content/drive\", force_remount=True).\n"
          ]
        }
      ]
    },
    {
      "cell_type": "code",
      "execution_count": 17,
      "metadata": {
        "id": "CNZo3SKtxzX_"
      },
      "outputs": [],
      "source": [
        "import pandas as pd\n",
        "import numpy as np\n",
        "import re\n",
        "import warnings\n",
        "warnings.filterwarnings(action='ignore')\n",
        "import nltk\n",
        "#nltk.download('all') # 처음 실행 시 주석을 제거하고 실행해주세요!"
      ]
    },
    {
      "cell_type": "code",
      "source": [
        "!pip install konlpy"
      ],
      "metadata": {
        "colab": {
          "base_uri": "https://localhost:8080/"
        },
        "id": "3HOca6Yz1FK5",
        "outputId": "e74d1201-45e6-4c6c-c1d8-d5548616c5e8"
      },
      "execution_count": 18,
      "outputs": [
        {
          "output_type": "stream",
          "name": "stdout",
          "text": [
            "Looking in indexes: https://pypi.org/simple, https://us-python.pkg.dev/colab-wheels/public/simple/\n",
            "Requirement already satisfied: konlpy in /usr/local/lib/python3.7/dist-packages (0.6.0)\n",
            "Requirement already satisfied: numpy>=1.6 in /usr/local/lib/python3.7/dist-packages (from konlpy) (1.21.6)\n",
            "Requirement already satisfied: JPype1>=0.7.0 in /usr/local/lib/python3.7/dist-packages (from konlpy) (1.4.0)\n",
            "Requirement already satisfied: lxml>=4.1.0 in /usr/local/lib/python3.7/dist-packages (from konlpy) (4.9.1)\n",
            "Requirement already satisfied: typing-extensions in /usr/local/lib/python3.7/dist-packages (from JPype1>=0.7.0->konlpy) (4.1.1)\n"
          ]
        }
      ]
    },
    {
      "cell_type": "markdown",
      "metadata": {
        "id": "9G_ACS_lxzYE"
      },
      "source": [
        "### train 데이터 불러오기"
      ]
    },
    {
      "cell_type": "code",
      "execution_count": 19,
      "metadata": {
        "id": "eReIcP8OxzYG",
        "colab": {
          "base_uri": "https://localhost:8080/",
          "height": 206
        },
        "outputId": "f167e96a-50dc-4010-b6e2-feefbf05fa4e"
      },
      "outputs": [
        {
          "output_type": "execute_result",
          "data": {
            "text/plain": [
              "   id                                 document  label\n",
              "0   1                영상이나 음악이 이쁘다 해도 미화시킨 불륜일뿐      0\n",
              "1   2             히치콕이 이 영화를 봤다면 분명 박수를 쳤을듯...      1\n",
              "2   3     괜찮은 음악영화가 또 나왔군요!!! 따뜻한 겨울이 될 것 같아요~      1\n",
              "3   4              아무래도 20년도지난작품이라 지금보기는너무유치하다      0\n",
              "4   5  지금까지의 영화들이 그랬듯. 이 영화역시 일본에 대한 미화는 여전하다.      0"
            ],
            "text/html": [
              "\n",
              "  <div id=\"df-843c17f7-eced-4f65-9189-61653458912f\">\n",
              "    <div class=\"colab-df-container\">\n",
              "      <div>\n",
              "<style scoped>\n",
              "    .dataframe tbody tr th:only-of-type {\n",
              "        vertical-align: middle;\n",
              "    }\n",
              "\n",
              "    .dataframe tbody tr th {\n",
              "        vertical-align: top;\n",
              "    }\n",
              "\n",
              "    .dataframe thead th {\n",
              "        text-align: right;\n",
              "    }\n",
              "</style>\n",
              "<table border=\"1\" class=\"dataframe\">\n",
              "  <thead>\n",
              "    <tr style=\"text-align: right;\">\n",
              "      <th></th>\n",
              "      <th>id</th>\n",
              "      <th>document</th>\n",
              "      <th>label</th>\n",
              "    </tr>\n",
              "  </thead>\n",
              "  <tbody>\n",
              "    <tr>\n",
              "      <th>0</th>\n",
              "      <td>1</td>\n",
              "      <td>영상이나 음악이 이쁘다 해도 미화시킨 불륜일뿐</td>\n",
              "      <td>0</td>\n",
              "    </tr>\n",
              "    <tr>\n",
              "      <th>1</th>\n",
              "      <td>2</td>\n",
              "      <td>히치콕이 이 영화를 봤다면 분명 박수를 쳤을듯...</td>\n",
              "      <td>1</td>\n",
              "    </tr>\n",
              "    <tr>\n",
              "      <th>2</th>\n",
              "      <td>3</td>\n",
              "      <td>괜찮은 음악영화가 또 나왔군요!!! 따뜻한 겨울이 될 것 같아요~</td>\n",
              "      <td>1</td>\n",
              "    </tr>\n",
              "    <tr>\n",
              "      <th>3</th>\n",
              "      <td>4</td>\n",
              "      <td>아무래도 20년도지난작품이라 지금보기는너무유치하다</td>\n",
              "      <td>0</td>\n",
              "    </tr>\n",
              "    <tr>\n",
              "      <th>4</th>\n",
              "      <td>5</td>\n",
              "      <td>지금까지의 영화들이 그랬듯. 이 영화역시 일본에 대한 미화는 여전하다.</td>\n",
              "      <td>0</td>\n",
              "    </tr>\n",
              "  </tbody>\n",
              "</table>\n",
              "</div>\n",
              "      <button class=\"colab-df-convert\" onclick=\"convertToInteractive('df-843c17f7-eced-4f65-9189-61653458912f')\"\n",
              "              title=\"Convert this dataframe to an interactive table.\"\n",
              "              style=\"display:none;\">\n",
              "        \n",
              "  <svg xmlns=\"http://www.w3.org/2000/svg\" height=\"24px\"viewBox=\"0 0 24 24\"\n",
              "       width=\"24px\">\n",
              "    <path d=\"M0 0h24v24H0V0z\" fill=\"none\"/>\n",
              "    <path d=\"M18.56 5.44l.94 2.06.94-2.06 2.06-.94-2.06-.94-.94-2.06-.94 2.06-2.06.94zm-11 1L8.5 8.5l.94-2.06 2.06-.94-2.06-.94L8.5 2.5l-.94 2.06-2.06.94zm10 10l.94 2.06.94-2.06 2.06-.94-2.06-.94-.94-2.06-.94 2.06-2.06.94z\"/><path d=\"M17.41 7.96l-1.37-1.37c-.4-.4-.92-.59-1.43-.59-.52 0-1.04.2-1.43.59L10.3 9.45l-7.72 7.72c-.78.78-.78 2.05 0 2.83L4 21.41c.39.39.9.59 1.41.59.51 0 1.02-.2 1.41-.59l7.78-7.78 2.81-2.81c.8-.78.8-2.07 0-2.86zM5.41 20L4 18.59l7.72-7.72 1.47 1.35L5.41 20z\"/>\n",
              "  </svg>\n",
              "      </button>\n",
              "      \n",
              "  <style>\n",
              "    .colab-df-container {\n",
              "      display:flex;\n",
              "      flex-wrap:wrap;\n",
              "      gap: 12px;\n",
              "    }\n",
              "\n",
              "    .colab-df-convert {\n",
              "      background-color: #E8F0FE;\n",
              "      border: none;\n",
              "      border-radius: 50%;\n",
              "      cursor: pointer;\n",
              "      display: none;\n",
              "      fill: #1967D2;\n",
              "      height: 32px;\n",
              "      padding: 0 0 0 0;\n",
              "      width: 32px;\n",
              "    }\n",
              "\n",
              "    .colab-df-convert:hover {\n",
              "      background-color: #E2EBFA;\n",
              "      box-shadow: 0px 1px 2px rgba(60, 64, 67, 0.3), 0px 1px 3px 1px rgba(60, 64, 67, 0.15);\n",
              "      fill: #174EA6;\n",
              "    }\n",
              "\n",
              "    [theme=dark] .colab-df-convert {\n",
              "      background-color: #3B4455;\n",
              "      fill: #D2E3FC;\n",
              "    }\n",
              "\n",
              "    [theme=dark] .colab-df-convert:hover {\n",
              "      background-color: #434B5C;\n",
              "      box-shadow: 0px 1px 3px 1px rgba(0, 0, 0, 0.15);\n",
              "      filter: drop-shadow(0px 1px 2px rgba(0, 0, 0, 0.3));\n",
              "      fill: #FFFFFF;\n",
              "    }\n",
              "  </style>\n",
              "\n",
              "      <script>\n",
              "        const buttonEl =\n",
              "          document.querySelector('#df-843c17f7-eced-4f65-9189-61653458912f button.colab-df-convert');\n",
              "        buttonEl.style.display =\n",
              "          google.colab.kernel.accessAllowed ? 'block' : 'none';\n",
              "\n",
              "        async function convertToInteractive(key) {\n",
              "          const element = document.querySelector('#df-843c17f7-eced-4f65-9189-61653458912f');\n",
              "          const dataTable =\n",
              "            await google.colab.kernel.invokeFunction('convertToInteractive',\n",
              "                                                     [key], {});\n",
              "          if (!dataTable) return;\n",
              "\n",
              "          const docLinkHtml = 'Like what you see? Visit the ' +\n",
              "            '<a target=\"_blank\" href=https://colab.research.google.com/notebooks/data_table.ipynb>data table notebook</a>'\n",
              "            + ' to learn more about interactive tables.';\n",
              "          element.innerHTML = '';\n",
              "          dataTable['output_type'] = 'display_data';\n",
              "          await google.colab.output.renderOutput(dataTable, element);\n",
              "          const docLink = document.createElement('div');\n",
              "          docLink.innerHTML = docLinkHtml;\n",
              "          element.appendChild(docLink);\n",
              "        }\n",
              "      </script>\n",
              "    </div>\n",
              "  </div>\n",
              "  "
            ]
          },
          "metadata": {},
          "execution_count": 19
        }
      ],
      "source": [
        "data = pd.read_csv('/content/drive/MyDrive/2022_Summer_Ybigta/0806_WordCloud/data/train.csv') # train 데이터 불러오기\n",
        "data.head() # 데이터 확인하기: 긍정인지 부정인지 label이 되어 있음"
      ]
    },
    {
      "cell_type": "code",
      "execution_count": 20,
      "metadata": {
        "id": "bGlSZrSRxzYI",
        "colab": {
          "base_uri": "https://localhost:8080/"
        },
        "outputId": "00015174-5400-4791-9c63-3d2f79e7f4db"
      },
      "outputs": [
        {
          "output_type": "execute_result",
          "data": {
            "text/plain": [
              "id          0\n",
              "document    0\n",
              "label       0\n",
              "dtype: int64"
            ]
          },
          "metadata": {},
          "execution_count": 20
        }
      ],
      "source": [
        "data.isna().sum() # 결측치 확인"
      ]
    },
    {
      "cell_type": "markdown",
      "metadata": {
        "id": "rbSsR-e8xzYO"
      },
      "source": [
        "### 학습/검증셋 분리하기\n",
        "\n",
        "모델링 후 성능을 검증하기 위해 학습셋과 검증셋으로 train 데이터를 나눠줍니다."
      ]
    },
    {
      "cell_type": "code",
      "execution_count": 25,
      "metadata": {
        "id": "rQ-PrYtXxzYR"
      },
      "outputs": [],
      "source": [
        "from sklearn.model_selection import train_test_split\n",
        "\n",
        "train, val = train_test_split(data)\n",
        "train.reset_index(inplace=True) # 전처리 과정에서 데이터가 뒤섞이지 않도록 인덱스를 초기화해주었습니다.\n",
        "val.reset_index(inplace=True)"
      ]
    },
    {
      "cell_type": "code",
      "execution_count": 26,
      "metadata": {
        "id": "6yoxgB2CxzYT",
        "colab": {
          "base_uri": "https://localhost:8080/",
          "height": 424
        },
        "outputId": "cbf615a3-49ec-4f7b-a7d8-bbc62ce36ac8"
      },
      "outputs": [
        {
          "output_type": "execute_result",
          "data": {
            "text/plain": [
              "      index    id                             document  label\n",
              "0      4289  4290       이번 시즌 정말 재미있어요! 현숙님 결혼 축하드려요^^      1\n",
              "1      3158  3159                     ㅋㅋㅋㅋㅋㅋㅋㅋㅋㅋㅋㅋㅋ귀엽닥      1\n",
              "2       534   535                이거 평점 조작한거 아냐??너무 높잖아      0\n",
              "3      4085  4086     1점도아까운 OO영화 이거 보느라 2시간날린 내가 불쌍하다      0\n",
              "4      2531  2532    데즈카오사무 원작이라서 봤는데...극장판 퀄리티가 그닥...      0\n",
              "...     ...   ...                                  ...    ...\n",
              "3745   1606  1607                  헐이다 진정 개쓸~ 1 주기도 아깝      0\n",
              "3746   1002  1003      카지노로얄 만든 감독이 만들었는데, 왜 이 모양? ㅡㅡ;      0\n",
              "3747    541   542  휴...높은 평점 주신 분들은 수준이 높으신건가-_- 이해불능.      0\n",
              "3748   4228  4229      괜한자존심 진리인데 왜1점이지 나진짜 초딩때 재밋게봣는데      1\n",
              "3749   3822  3823           1점주기도아깝다조조로봤음에도돈이 아까웟던영화..      0\n",
              "\n",
              "[3750 rows x 4 columns]"
            ],
            "text/html": [
              "\n",
              "  <div id=\"df-395536a5-8c80-49e8-90bf-8d98de29489e\">\n",
              "    <div class=\"colab-df-container\">\n",
              "      <div>\n",
              "<style scoped>\n",
              "    .dataframe tbody tr th:only-of-type {\n",
              "        vertical-align: middle;\n",
              "    }\n",
              "\n",
              "    .dataframe tbody tr th {\n",
              "        vertical-align: top;\n",
              "    }\n",
              "\n",
              "    .dataframe thead th {\n",
              "        text-align: right;\n",
              "    }\n",
              "</style>\n",
              "<table border=\"1\" class=\"dataframe\">\n",
              "  <thead>\n",
              "    <tr style=\"text-align: right;\">\n",
              "      <th></th>\n",
              "      <th>index</th>\n",
              "      <th>id</th>\n",
              "      <th>document</th>\n",
              "      <th>label</th>\n",
              "    </tr>\n",
              "  </thead>\n",
              "  <tbody>\n",
              "    <tr>\n",
              "      <th>0</th>\n",
              "      <td>4289</td>\n",
              "      <td>4290</td>\n",
              "      <td>이번 시즌 정말 재미있어요! 현숙님 결혼 축하드려요^^</td>\n",
              "      <td>1</td>\n",
              "    </tr>\n",
              "    <tr>\n",
              "      <th>1</th>\n",
              "      <td>3158</td>\n",
              "      <td>3159</td>\n",
              "      <td>ㅋㅋㅋㅋㅋㅋㅋㅋㅋㅋㅋㅋㅋ귀엽닥</td>\n",
              "      <td>1</td>\n",
              "    </tr>\n",
              "    <tr>\n",
              "      <th>2</th>\n",
              "      <td>534</td>\n",
              "      <td>535</td>\n",
              "      <td>이거 평점 조작한거 아냐??너무 높잖아</td>\n",
              "      <td>0</td>\n",
              "    </tr>\n",
              "    <tr>\n",
              "      <th>3</th>\n",
              "      <td>4085</td>\n",
              "      <td>4086</td>\n",
              "      <td>1점도아까운 OO영화 이거 보느라 2시간날린 내가 불쌍하다</td>\n",
              "      <td>0</td>\n",
              "    </tr>\n",
              "    <tr>\n",
              "      <th>4</th>\n",
              "      <td>2531</td>\n",
              "      <td>2532</td>\n",
              "      <td>데즈카오사무 원작이라서 봤는데...극장판 퀄리티가 그닥...</td>\n",
              "      <td>0</td>\n",
              "    </tr>\n",
              "    <tr>\n",
              "      <th>...</th>\n",
              "      <td>...</td>\n",
              "      <td>...</td>\n",
              "      <td>...</td>\n",
              "      <td>...</td>\n",
              "    </tr>\n",
              "    <tr>\n",
              "      <th>3745</th>\n",
              "      <td>1606</td>\n",
              "      <td>1607</td>\n",
              "      <td>헐이다 진정 개쓸~ 1 주기도 아깝</td>\n",
              "      <td>0</td>\n",
              "    </tr>\n",
              "    <tr>\n",
              "      <th>3746</th>\n",
              "      <td>1002</td>\n",
              "      <td>1003</td>\n",
              "      <td>카지노로얄 만든 감독이 만들었는데, 왜 이 모양? ㅡㅡ;</td>\n",
              "      <td>0</td>\n",
              "    </tr>\n",
              "    <tr>\n",
              "      <th>3747</th>\n",
              "      <td>541</td>\n",
              "      <td>542</td>\n",
              "      <td>휴...높은 평점 주신 분들은 수준이 높으신건가-_- 이해불능.</td>\n",
              "      <td>0</td>\n",
              "    </tr>\n",
              "    <tr>\n",
              "      <th>3748</th>\n",
              "      <td>4228</td>\n",
              "      <td>4229</td>\n",
              "      <td>괜한자존심 진리인데 왜1점이지 나진짜 초딩때 재밋게봣는데</td>\n",
              "      <td>1</td>\n",
              "    </tr>\n",
              "    <tr>\n",
              "      <th>3749</th>\n",
              "      <td>3822</td>\n",
              "      <td>3823</td>\n",
              "      <td>1점주기도아깝다조조로봤음에도돈이 아까웟던영화..</td>\n",
              "      <td>0</td>\n",
              "    </tr>\n",
              "  </tbody>\n",
              "</table>\n",
              "<p>3750 rows × 4 columns</p>\n",
              "</div>\n",
              "      <button class=\"colab-df-convert\" onclick=\"convertToInteractive('df-395536a5-8c80-49e8-90bf-8d98de29489e')\"\n",
              "              title=\"Convert this dataframe to an interactive table.\"\n",
              "              style=\"display:none;\">\n",
              "        \n",
              "  <svg xmlns=\"http://www.w3.org/2000/svg\" height=\"24px\"viewBox=\"0 0 24 24\"\n",
              "       width=\"24px\">\n",
              "    <path d=\"M0 0h24v24H0V0z\" fill=\"none\"/>\n",
              "    <path d=\"M18.56 5.44l.94 2.06.94-2.06 2.06-.94-2.06-.94-.94-2.06-.94 2.06-2.06.94zm-11 1L8.5 8.5l.94-2.06 2.06-.94-2.06-.94L8.5 2.5l-.94 2.06-2.06.94zm10 10l.94 2.06.94-2.06 2.06-.94-2.06-.94-.94-2.06-.94 2.06-2.06.94z\"/><path d=\"M17.41 7.96l-1.37-1.37c-.4-.4-.92-.59-1.43-.59-.52 0-1.04.2-1.43.59L10.3 9.45l-7.72 7.72c-.78.78-.78 2.05 0 2.83L4 21.41c.39.39.9.59 1.41.59.51 0 1.02-.2 1.41-.59l7.78-7.78 2.81-2.81c.8-.78.8-2.07 0-2.86zM5.41 20L4 18.59l7.72-7.72 1.47 1.35L5.41 20z\"/>\n",
              "  </svg>\n",
              "      </button>\n",
              "      \n",
              "  <style>\n",
              "    .colab-df-container {\n",
              "      display:flex;\n",
              "      flex-wrap:wrap;\n",
              "      gap: 12px;\n",
              "    }\n",
              "\n",
              "    .colab-df-convert {\n",
              "      background-color: #E8F0FE;\n",
              "      border: none;\n",
              "      border-radius: 50%;\n",
              "      cursor: pointer;\n",
              "      display: none;\n",
              "      fill: #1967D2;\n",
              "      height: 32px;\n",
              "      padding: 0 0 0 0;\n",
              "      width: 32px;\n",
              "    }\n",
              "\n",
              "    .colab-df-convert:hover {\n",
              "      background-color: #E2EBFA;\n",
              "      box-shadow: 0px 1px 2px rgba(60, 64, 67, 0.3), 0px 1px 3px 1px rgba(60, 64, 67, 0.15);\n",
              "      fill: #174EA6;\n",
              "    }\n",
              "\n",
              "    [theme=dark] .colab-df-convert {\n",
              "      background-color: #3B4455;\n",
              "      fill: #D2E3FC;\n",
              "    }\n",
              "\n",
              "    [theme=dark] .colab-df-convert:hover {\n",
              "      background-color: #434B5C;\n",
              "      box-shadow: 0px 1px 3px 1px rgba(0, 0, 0, 0.15);\n",
              "      filter: drop-shadow(0px 1px 2px rgba(0, 0, 0, 0.3));\n",
              "      fill: #FFFFFF;\n",
              "    }\n",
              "  </style>\n",
              "\n",
              "      <script>\n",
              "        const buttonEl =\n",
              "          document.querySelector('#df-395536a5-8c80-49e8-90bf-8d98de29489e button.colab-df-convert');\n",
              "        buttonEl.style.display =\n",
              "          google.colab.kernel.accessAllowed ? 'block' : 'none';\n",
              "\n",
              "        async function convertToInteractive(key) {\n",
              "          const element = document.querySelector('#df-395536a5-8c80-49e8-90bf-8d98de29489e');\n",
              "          const dataTable =\n",
              "            await google.colab.kernel.invokeFunction('convertToInteractive',\n",
              "                                                     [key], {});\n",
              "          if (!dataTable) return;\n",
              "\n",
              "          const docLinkHtml = 'Like what you see? Visit the ' +\n",
              "            '<a target=\"_blank\" href=https://colab.research.google.com/notebooks/data_table.ipynb>data table notebook</a>'\n",
              "            + ' to learn more about interactive tables.';\n",
              "          element.innerHTML = '';\n",
              "          dataTable['output_type'] = 'display_data';\n",
              "          await google.colab.output.renderOutput(dataTable, element);\n",
              "          const docLink = document.createElement('div');\n",
              "          docLink.innerHTML = docLinkHtml;\n",
              "          element.appendChild(docLink);\n",
              "        }\n",
              "      </script>\n",
              "    </div>\n",
              "  </div>\n",
              "  "
            ]
          },
          "metadata": {},
          "execution_count": 26
        }
      ],
      "source": [
        "train # train 셋 확인"
      ]
    },
    {
      "cell_type": "markdown",
      "metadata": {
        "id": "KdPHRQ5NxzYU"
      },
      "source": [
        "### 데이터 정제하기\n",
        "\n",
        "\n",
        "가장 먼저 한글과 공백만 남긴 뒤 preprocessed라는 컬럼으로 저장하겠습니다."
      ]
    },
    {
      "cell_type": "code",
      "execution_count": 27,
      "metadata": {
        "id": "GugwWi7bxzYV",
        "outputId": "1bd07513-1176-43a0-f12e-a47729e63480",
        "colab": {
          "base_uri": "https://localhost:8080/",
          "height": 206
        }
      },
      "outputs": [
        {
          "output_type": "execute_result",
          "data": {
            "text/plain": [
              "   index    id                           document  label  \\\n",
              "0   4289  4290     이번 시즌 정말 재미있어요! 현숙님 결혼 축하드려요^^      1   \n",
              "1   3158  3159                   ㅋㅋㅋㅋㅋㅋㅋㅋㅋㅋㅋㅋㅋ귀엽닥      1   \n",
              "2    534   535              이거 평점 조작한거 아냐??너무 높잖아      0   \n",
              "3   4085  4086   1점도아까운 OO영화 이거 보느라 2시간날린 내가 불쌍하다      0   \n",
              "4   2531  2532  데즈카오사무 원작이라서 봤는데...극장판 퀄리티가 그닥...      0   \n",
              "\n",
              "                   preprocessed  \n",
              "0   이번 시즌 정말 재미있어요 현숙님 결혼 축하드려요  \n",
              "1              ㅋㅋㅋㅋㅋㅋㅋㅋㅋㅋㅋㅋㅋ귀엽닥  \n",
              "2           이거 평점 조작한거 아냐너무 높잖아  \n",
              "3  점도아까운 영화 이거 보느라 시간날린 내가 불쌍하다  \n",
              "4   데즈카오사무 원작이라서 봤는데극장판 퀄리티가 그닥  "
            ],
            "text/html": [
              "\n",
              "  <div id=\"df-a8b80fd7-8987-44be-928f-80cb06c7b4dc\">\n",
              "    <div class=\"colab-df-container\">\n",
              "      <div>\n",
              "<style scoped>\n",
              "    .dataframe tbody tr th:only-of-type {\n",
              "        vertical-align: middle;\n",
              "    }\n",
              "\n",
              "    .dataframe tbody tr th {\n",
              "        vertical-align: top;\n",
              "    }\n",
              "\n",
              "    .dataframe thead th {\n",
              "        text-align: right;\n",
              "    }\n",
              "</style>\n",
              "<table border=\"1\" class=\"dataframe\">\n",
              "  <thead>\n",
              "    <tr style=\"text-align: right;\">\n",
              "      <th></th>\n",
              "      <th>index</th>\n",
              "      <th>id</th>\n",
              "      <th>document</th>\n",
              "      <th>label</th>\n",
              "      <th>preprocessed</th>\n",
              "    </tr>\n",
              "  </thead>\n",
              "  <tbody>\n",
              "    <tr>\n",
              "      <th>0</th>\n",
              "      <td>4289</td>\n",
              "      <td>4290</td>\n",
              "      <td>이번 시즌 정말 재미있어요! 현숙님 결혼 축하드려요^^</td>\n",
              "      <td>1</td>\n",
              "      <td>이번 시즌 정말 재미있어요 현숙님 결혼 축하드려요</td>\n",
              "    </tr>\n",
              "    <tr>\n",
              "      <th>1</th>\n",
              "      <td>3158</td>\n",
              "      <td>3159</td>\n",
              "      <td>ㅋㅋㅋㅋㅋㅋㅋㅋㅋㅋㅋㅋㅋ귀엽닥</td>\n",
              "      <td>1</td>\n",
              "      <td>ㅋㅋㅋㅋㅋㅋㅋㅋㅋㅋㅋㅋㅋ귀엽닥</td>\n",
              "    </tr>\n",
              "    <tr>\n",
              "      <th>2</th>\n",
              "      <td>534</td>\n",
              "      <td>535</td>\n",
              "      <td>이거 평점 조작한거 아냐??너무 높잖아</td>\n",
              "      <td>0</td>\n",
              "      <td>이거 평점 조작한거 아냐너무 높잖아</td>\n",
              "    </tr>\n",
              "    <tr>\n",
              "      <th>3</th>\n",
              "      <td>4085</td>\n",
              "      <td>4086</td>\n",
              "      <td>1점도아까운 OO영화 이거 보느라 2시간날린 내가 불쌍하다</td>\n",
              "      <td>0</td>\n",
              "      <td>점도아까운 영화 이거 보느라 시간날린 내가 불쌍하다</td>\n",
              "    </tr>\n",
              "    <tr>\n",
              "      <th>4</th>\n",
              "      <td>2531</td>\n",
              "      <td>2532</td>\n",
              "      <td>데즈카오사무 원작이라서 봤는데...극장판 퀄리티가 그닥...</td>\n",
              "      <td>0</td>\n",
              "      <td>데즈카오사무 원작이라서 봤는데극장판 퀄리티가 그닥</td>\n",
              "    </tr>\n",
              "  </tbody>\n",
              "</table>\n",
              "</div>\n",
              "      <button class=\"colab-df-convert\" onclick=\"convertToInteractive('df-a8b80fd7-8987-44be-928f-80cb06c7b4dc')\"\n",
              "              title=\"Convert this dataframe to an interactive table.\"\n",
              "              style=\"display:none;\">\n",
              "        \n",
              "  <svg xmlns=\"http://www.w3.org/2000/svg\" height=\"24px\"viewBox=\"0 0 24 24\"\n",
              "       width=\"24px\">\n",
              "    <path d=\"M0 0h24v24H0V0z\" fill=\"none\"/>\n",
              "    <path d=\"M18.56 5.44l.94 2.06.94-2.06 2.06-.94-2.06-.94-.94-2.06-.94 2.06-2.06.94zm-11 1L8.5 8.5l.94-2.06 2.06-.94-2.06-.94L8.5 2.5l-.94 2.06-2.06.94zm10 10l.94 2.06.94-2.06 2.06-.94-2.06-.94-.94-2.06-.94 2.06-2.06.94z\"/><path d=\"M17.41 7.96l-1.37-1.37c-.4-.4-.92-.59-1.43-.59-.52 0-1.04.2-1.43.59L10.3 9.45l-7.72 7.72c-.78.78-.78 2.05 0 2.83L4 21.41c.39.39.9.59 1.41.59.51 0 1.02-.2 1.41-.59l7.78-7.78 2.81-2.81c.8-.78.8-2.07 0-2.86zM5.41 20L4 18.59l7.72-7.72 1.47 1.35L5.41 20z\"/>\n",
              "  </svg>\n",
              "      </button>\n",
              "      \n",
              "  <style>\n",
              "    .colab-df-container {\n",
              "      display:flex;\n",
              "      flex-wrap:wrap;\n",
              "      gap: 12px;\n",
              "    }\n",
              "\n",
              "    .colab-df-convert {\n",
              "      background-color: #E8F0FE;\n",
              "      border: none;\n",
              "      border-radius: 50%;\n",
              "      cursor: pointer;\n",
              "      display: none;\n",
              "      fill: #1967D2;\n",
              "      height: 32px;\n",
              "      padding: 0 0 0 0;\n",
              "      width: 32px;\n",
              "    }\n",
              "\n",
              "    .colab-df-convert:hover {\n",
              "      background-color: #E2EBFA;\n",
              "      box-shadow: 0px 1px 2px rgba(60, 64, 67, 0.3), 0px 1px 3px 1px rgba(60, 64, 67, 0.15);\n",
              "      fill: #174EA6;\n",
              "    }\n",
              "\n",
              "    [theme=dark] .colab-df-convert {\n",
              "      background-color: #3B4455;\n",
              "      fill: #D2E3FC;\n",
              "    }\n",
              "\n",
              "    [theme=dark] .colab-df-convert:hover {\n",
              "      background-color: #434B5C;\n",
              "      box-shadow: 0px 1px 3px 1px rgba(0, 0, 0, 0.15);\n",
              "      filter: drop-shadow(0px 1px 2px rgba(0, 0, 0, 0.3));\n",
              "      fill: #FFFFFF;\n",
              "    }\n",
              "  </style>\n",
              "\n",
              "      <script>\n",
              "        const buttonEl =\n",
              "          document.querySelector('#df-a8b80fd7-8987-44be-928f-80cb06c7b4dc button.colab-df-convert');\n",
              "        buttonEl.style.display =\n",
              "          google.colab.kernel.accessAllowed ? 'block' : 'none';\n",
              "\n",
              "        async function convertToInteractive(key) {\n",
              "          const element = document.querySelector('#df-a8b80fd7-8987-44be-928f-80cb06c7b4dc');\n",
              "          const dataTable =\n",
              "            await google.colab.kernel.invokeFunction('convertToInteractive',\n",
              "                                                     [key], {});\n",
              "          if (!dataTable) return;\n",
              "\n",
              "          const docLinkHtml = 'Like what you see? Visit the ' +\n",
              "            '<a target=\"_blank\" href=https://colab.research.google.com/notebooks/data_table.ipynb>data table notebook</a>'\n",
              "            + ' to learn more about interactive tables.';\n",
              "          element.innerHTML = '';\n",
              "          dataTable['output_type'] = 'display_data';\n",
              "          await google.colab.output.renderOutput(dataTable, element);\n",
              "          const docLink = document.createElement('div');\n",
              "          docLink.innerHTML = docLinkHtml;\n",
              "          element.appendChild(docLink);\n",
              "        }\n",
              "      </script>\n",
              "    </div>\n",
              "  </div>\n",
              "  "
            ]
          },
          "metadata": {},
          "execution_count": 27
        }
      ],
      "source": [
        "train['preprocessed'] = train['document'].str.replace(\"[^ㄱ-ㅎㅏ-ㅣ가-힣 ]\",\"\") # 한글과 공백을 제외(^)하고 모두 제거\n",
        "train[:5] # 데이터 확인"
      ]
    },
    {
      "cell_type": "markdown",
      "metadata": {
        "id": "kkXkev1txzYX"
      },
      "source": [
        "추가적으로 혹시 모를 다중공백도 제거해줍니다."
      ]
    },
    {
      "cell_type": "code",
      "execution_count": 28,
      "metadata": {
        "id": "8dSULak6xzYY",
        "outputId": "ec78a6ae-8dae-411d-cc32-7ff25e197b16",
        "colab": {
          "base_uri": "https://localhost:8080/",
          "height": 213
        }
      },
      "outputs": [
        {
          "output_type": "execute_result",
          "data": {
            "text/plain": [
              "   index    id                           document  label  \\\n",
              "0   4289  4290     이번 시즌 정말 재미있어요! 현숙님 결혼 축하드려요^^      1   \n",
              "1   3158  3159                   ㅋㅋㅋㅋㅋㅋㅋㅋㅋㅋㅋㅋㅋ귀엽닥      1   \n",
              "2    534   535              이거 평점 조작한거 아냐??너무 높잖아      0   \n",
              "3   4085  4086   1점도아까운 OO영화 이거 보느라 2시간날린 내가 불쌍하다      0   \n",
              "4   2531  2532  데즈카오사무 원작이라서 봤는데...극장판 퀄리티가 그닥...      0   \n",
              "\n",
              "                   preprocessed  \n",
              "0   이번 시즌 정말 재미있어요 현숙님 결혼 축하드려요  \n",
              "1              ㅋㅋㅋㅋㅋㅋㅋㅋㅋㅋㅋㅋㅋ귀엽닥  \n",
              "2           이거 평점 조작한거 아냐너무 높잖아  \n",
              "3  점도아까운 영화 이거 보느라 시간날린 내가 불쌍하다  \n",
              "4   데즈카오사무 원작이라서 봤는데극장판 퀄리티가 그닥  "
            ],
            "text/html": [
              "\n",
              "  <div id=\"df-5c4dc8db-6094-43b2-9795-e644539e7f0a\">\n",
              "    <div class=\"colab-df-container\">\n",
              "      <div>\n",
              "<style scoped>\n",
              "    .dataframe tbody tr th:only-of-type {\n",
              "        vertical-align: middle;\n",
              "    }\n",
              "\n",
              "    .dataframe tbody tr th {\n",
              "        vertical-align: top;\n",
              "    }\n",
              "\n",
              "    .dataframe thead th {\n",
              "        text-align: right;\n",
              "    }\n",
              "</style>\n",
              "<table border=\"1\" class=\"dataframe\">\n",
              "  <thead>\n",
              "    <tr style=\"text-align: right;\">\n",
              "      <th></th>\n",
              "      <th>index</th>\n",
              "      <th>id</th>\n",
              "      <th>document</th>\n",
              "      <th>label</th>\n",
              "      <th>preprocessed</th>\n",
              "    </tr>\n",
              "  </thead>\n",
              "  <tbody>\n",
              "    <tr>\n",
              "      <th>0</th>\n",
              "      <td>4289</td>\n",
              "      <td>4290</td>\n",
              "      <td>이번 시즌 정말 재미있어요! 현숙님 결혼 축하드려요^^</td>\n",
              "      <td>1</td>\n",
              "      <td>이번 시즌 정말 재미있어요 현숙님 결혼 축하드려요</td>\n",
              "    </tr>\n",
              "    <tr>\n",
              "      <th>1</th>\n",
              "      <td>3158</td>\n",
              "      <td>3159</td>\n",
              "      <td>ㅋㅋㅋㅋㅋㅋㅋㅋㅋㅋㅋㅋㅋ귀엽닥</td>\n",
              "      <td>1</td>\n",
              "      <td>ㅋㅋㅋㅋㅋㅋㅋㅋㅋㅋㅋㅋㅋ귀엽닥</td>\n",
              "    </tr>\n",
              "    <tr>\n",
              "      <th>2</th>\n",
              "      <td>534</td>\n",
              "      <td>535</td>\n",
              "      <td>이거 평점 조작한거 아냐??너무 높잖아</td>\n",
              "      <td>0</td>\n",
              "      <td>이거 평점 조작한거 아냐너무 높잖아</td>\n",
              "    </tr>\n",
              "    <tr>\n",
              "      <th>3</th>\n",
              "      <td>4085</td>\n",
              "      <td>4086</td>\n",
              "      <td>1점도아까운 OO영화 이거 보느라 2시간날린 내가 불쌍하다</td>\n",
              "      <td>0</td>\n",
              "      <td>점도아까운 영화 이거 보느라 시간날린 내가 불쌍하다</td>\n",
              "    </tr>\n",
              "    <tr>\n",
              "      <th>4</th>\n",
              "      <td>2531</td>\n",
              "      <td>2532</td>\n",
              "      <td>데즈카오사무 원작이라서 봤는데...극장판 퀄리티가 그닥...</td>\n",
              "      <td>0</td>\n",
              "      <td>데즈카오사무 원작이라서 봤는데극장판 퀄리티가 그닥</td>\n",
              "    </tr>\n",
              "  </tbody>\n",
              "</table>\n",
              "</div>\n",
              "      <button class=\"colab-df-convert\" onclick=\"convertToInteractive('df-5c4dc8db-6094-43b2-9795-e644539e7f0a')\"\n",
              "              title=\"Convert this dataframe to an interactive table.\"\n",
              "              style=\"display:none;\">\n",
              "        \n",
              "  <svg xmlns=\"http://www.w3.org/2000/svg\" height=\"24px\"viewBox=\"0 0 24 24\"\n",
              "       width=\"24px\">\n",
              "    <path d=\"M0 0h24v24H0V0z\" fill=\"none\"/>\n",
              "    <path d=\"M18.56 5.44l.94 2.06.94-2.06 2.06-.94-2.06-.94-.94-2.06-.94 2.06-2.06.94zm-11 1L8.5 8.5l.94-2.06 2.06-.94-2.06-.94L8.5 2.5l-.94 2.06-2.06.94zm10 10l.94 2.06.94-2.06 2.06-.94-2.06-.94-.94-2.06-.94 2.06-2.06.94z\"/><path d=\"M17.41 7.96l-1.37-1.37c-.4-.4-.92-.59-1.43-.59-.52 0-1.04.2-1.43.59L10.3 9.45l-7.72 7.72c-.78.78-.78 2.05 0 2.83L4 21.41c.39.39.9.59 1.41.59.51 0 1.02-.2 1.41-.59l7.78-7.78 2.81-2.81c.8-.78.8-2.07 0-2.86zM5.41 20L4 18.59l7.72-7.72 1.47 1.35L5.41 20z\"/>\n",
              "  </svg>\n",
              "      </button>\n",
              "      \n",
              "  <style>\n",
              "    .colab-df-container {\n",
              "      display:flex;\n",
              "      flex-wrap:wrap;\n",
              "      gap: 12px;\n",
              "    }\n",
              "\n",
              "    .colab-df-convert {\n",
              "      background-color: #E8F0FE;\n",
              "      border: none;\n",
              "      border-radius: 50%;\n",
              "      cursor: pointer;\n",
              "      display: none;\n",
              "      fill: #1967D2;\n",
              "      height: 32px;\n",
              "      padding: 0 0 0 0;\n",
              "      width: 32px;\n",
              "    }\n",
              "\n",
              "    .colab-df-convert:hover {\n",
              "      background-color: #E2EBFA;\n",
              "      box-shadow: 0px 1px 2px rgba(60, 64, 67, 0.3), 0px 1px 3px 1px rgba(60, 64, 67, 0.15);\n",
              "      fill: #174EA6;\n",
              "    }\n",
              "\n",
              "    [theme=dark] .colab-df-convert {\n",
              "      background-color: #3B4455;\n",
              "      fill: #D2E3FC;\n",
              "    }\n",
              "\n",
              "    [theme=dark] .colab-df-convert:hover {\n",
              "      background-color: #434B5C;\n",
              "      box-shadow: 0px 1px 3px 1px rgba(0, 0, 0, 0.15);\n",
              "      filter: drop-shadow(0px 1px 2px rgba(0, 0, 0, 0.3));\n",
              "      fill: #FFFFFF;\n",
              "    }\n",
              "  </style>\n",
              "\n",
              "      <script>\n",
              "        const buttonEl =\n",
              "          document.querySelector('#df-5c4dc8db-6094-43b2-9795-e644539e7f0a button.colab-df-convert');\n",
              "        buttonEl.style.display =\n",
              "          google.colab.kernel.accessAllowed ? 'block' : 'none';\n",
              "\n",
              "        async function convertToInteractive(key) {\n",
              "          const element = document.querySelector('#df-5c4dc8db-6094-43b2-9795-e644539e7f0a');\n",
              "          const dataTable =\n",
              "            await google.colab.kernel.invokeFunction('convertToInteractive',\n",
              "                                                     [key], {});\n",
              "          if (!dataTable) return;\n",
              "\n",
              "          const docLinkHtml = 'Like what you see? Visit the ' +\n",
              "            '<a target=\"_blank\" href=https://colab.research.google.com/notebooks/data_table.ipynb>data table notebook</a>'\n",
              "            + ' to learn more about interactive tables.';\n",
              "          element.innerHTML = '';\n",
              "          dataTable['output_type'] = 'display_data';\n",
              "          await google.colab.output.renderOutput(dataTable, element);\n",
              "          const docLink = document.createElement('div');\n",
              "          docLink.innerHTML = docLinkHtml;\n",
              "          element.appendChild(docLink);\n",
              "        }\n",
              "      </script>\n",
              "    </div>\n",
              "  </div>\n",
              "  "
            ]
          },
          "metadata": {},
          "execution_count": 28
        }
      ],
      "source": [
        "train['preprocessed'] = train['preprocessed'].str.replace(\" +\", \" \") # 다중 공백 제거\n",
        "train[:5] # 데이터 확인"
      ]
    },
    {
      "cell_type": "markdown",
      "metadata": {
        "id": "lC08EGCIxzYZ"
      },
      "source": [
        "### 토큰화"
      ]
    },
    {
      "cell_type": "markdown",
      "metadata": {
        "id": "GXUOomhpxzYe"
      },
      "source": [
        "#### 한국어에서의 토큰화\n",
        "\n",
        "한국어는 영어와 달리 형태소(뜻을 가진 말의 최소 단위)간의 결합으로 어절이 이루어집니다. ex) 철수 -가 책 -을 읽- -었- -다\n",
        "\n",
        "따라서 한국어 전용 형태소 분석기가 많이 존재하는데요, 이번에는 koNLPy라는 패키지의 Okt라는 형태소 분석기를 사용해보겠습니다."
      ]
    },
    {
      "cell_type": "markdown",
      "metadata": {
        "id": "4pTwnP67xzYg"
      },
      "source": [
        "이제 영화 리뷰 데이터에서 같은 방법으로 형태소 분석을 해볼까요?"
      ]
    },
    {
      "cell_type": "code",
      "source": [
        "from konlpy.tag import Okt\n",
        "okt = Okt()"
      ],
      "metadata": {
        "id": "ppx0qFvibpBu"
      },
      "execution_count": 29,
      "outputs": []
    },
    {
      "cell_type": "code",
      "execution_count": 35,
      "metadata": {
        "id": "naE0N0cIxzYg",
        "outputId": "bbbf0219-f428-42bf-a05e-4d861701e36c",
        "colab": {
          "base_uri": "https://localhost:8080/",
          "height": 285
        }
      },
      "outputs": [
        {
          "output_type": "execute_result",
          "data": {
            "text/plain": [
              "   index    id                           document  label  \\\n",
              "0   4289  4290     이번 시즌 정말 재미있어요! 현숙님 결혼 축하드려요^^      1   \n",
              "1   3158  3159                   ㅋㅋㅋㅋㅋㅋㅋㅋㅋㅋㅋㅋㅋ귀엽닥      1   \n",
              "2    534   535              이거 평점 조작한거 아냐??너무 높잖아      0   \n",
              "3   4085  4086   1점도아까운 OO영화 이거 보느라 2시간날린 내가 불쌍하다      0   \n",
              "4   2531  2532  데즈카오사무 원작이라서 봤는데...극장판 퀄리티가 그닥...      0   \n",
              "\n",
              "                   preprocessed                     tokenized_stem  \n",
              "0   이번 시즌 정말 재미있어요 현숙님 결혼 축하드려요       이번 시즌 정말 재미있다 현숙 님 결혼 축하 드리다  \n",
              "1              ㅋㅋㅋㅋㅋㅋㅋㅋㅋㅋㅋㅋㅋ귀엽닥                  ㅋㅋㅋㅋㅋㅋㅋㅋㅋㅋㅋㅋㅋ 귀엽닥  \n",
              "2           이거 평점 조작한거 아냐너무 높잖아            이 거 평점 조 작 한 거 알다 너무 높다  \n",
              "3  점도아까운 영화 이거 보느라 시간날린 내가 불쌍하다   점도 아깝다 영화 이 거 보다 시간 날리다 내 가 불쌍하다  \n",
              "4   데즈카오사무 원작이라서 봤는데극장판 퀄리티가 그닥  데 즈 카 오 사무 원작 이라서 보다 극장판 퀄리티 가 그닥  "
            ],
            "text/html": [
              "\n",
              "  <div id=\"df-6d4f21bf-e267-4ab2-b3fc-825d3b6ed8dd\">\n",
              "    <div class=\"colab-df-container\">\n",
              "      <div>\n",
              "<style scoped>\n",
              "    .dataframe tbody tr th:only-of-type {\n",
              "        vertical-align: middle;\n",
              "    }\n",
              "\n",
              "    .dataframe tbody tr th {\n",
              "        vertical-align: top;\n",
              "    }\n",
              "\n",
              "    .dataframe thead th {\n",
              "        text-align: right;\n",
              "    }\n",
              "</style>\n",
              "<table border=\"1\" class=\"dataframe\">\n",
              "  <thead>\n",
              "    <tr style=\"text-align: right;\">\n",
              "      <th></th>\n",
              "      <th>index</th>\n",
              "      <th>id</th>\n",
              "      <th>document</th>\n",
              "      <th>label</th>\n",
              "      <th>preprocessed</th>\n",
              "      <th>tokenized_stem</th>\n",
              "    </tr>\n",
              "  </thead>\n",
              "  <tbody>\n",
              "    <tr>\n",
              "      <th>0</th>\n",
              "      <td>4289</td>\n",
              "      <td>4290</td>\n",
              "      <td>이번 시즌 정말 재미있어요! 현숙님 결혼 축하드려요^^</td>\n",
              "      <td>1</td>\n",
              "      <td>이번 시즌 정말 재미있어요 현숙님 결혼 축하드려요</td>\n",
              "      <td>이번 시즌 정말 재미있다 현숙 님 결혼 축하 드리다</td>\n",
              "    </tr>\n",
              "    <tr>\n",
              "      <th>1</th>\n",
              "      <td>3158</td>\n",
              "      <td>3159</td>\n",
              "      <td>ㅋㅋㅋㅋㅋㅋㅋㅋㅋㅋㅋㅋㅋ귀엽닥</td>\n",
              "      <td>1</td>\n",
              "      <td>ㅋㅋㅋㅋㅋㅋㅋㅋㅋㅋㅋㅋㅋ귀엽닥</td>\n",
              "      <td>ㅋㅋㅋㅋㅋㅋㅋㅋㅋㅋㅋㅋㅋ 귀엽닥</td>\n",
              "    </tr>\n",
              "    <tr>\n",
              "      <th>2</th>\n",
              "      <td>534</td>\n",
              "      <td>535</td>\n",
              "      <td>이거 평점 조작한거 아냐??너무 높잖아</td>\n",
              "      <td>0</td>\n",
              "      <td>이거 평점 조작한거 아냐너무 높잖아</td>\n",
              "      <td>이 거 평점 조 작 한 거 알다 너무 높다</td>\n",
              "    </tr>\n",
              "    <tr>\n",
              "      <th>3</th>\n",
              "      <td>4085</td>\n",
              "      <td>4086</td>\n",
              "      <td>1점도아까운 OO영화 이거 보느라 2시간날린 내가 불쌍하다</td>\n",
              "      <td>0</td>\n",
              "      <td>점도아까운 영화 이거 보느라 시간날린 내가 불쌍하다</td>\n",
              "      <td>점도 아깝다 영화 이 거 보다 시간 날리다 내 가 불쌍하다</td>\n",
              "    </tr>\n",
              "    <tr>\n",
              "      <th>4</th>\n",
              "      <td>2531</td>\n",
              "      <td>2532</td>\n",
              "      <td>데즈카오사무 원작이라서 봤는데...극장판 퀄리티가 그닥...</td>\n",
              "      <td>0</td>\n",
              "      <td>데즈카오사무 원작이라서 봤는데극장판 퀄리티가 그닥</td>\n",
              "      <td>데 즈 카 오 사무 원작 이라서 보다 극장판 퀄리티 가 그닥</td>\n",
              "    </tr>\n",
              "  </tbody>\n",
              "</table>\n",
              "</div>\n",
              "      <button class=\"colab-df-convert\" onclick=\"convertToInteractive('df-6d4f21bf-e267-4ab2-b3fc-825d3b6ed8dd')\"\n",
              "              title=\"Convert this dataframe to an interactive table.\"\n",
              "              style=\"display:none;\">\n",
              "        \n",
              "  <svg xmlns=\"http://www.w3.org/2000/svg\" height=\"24px\"viewBox=\"0 0 24 24\"\n",
              "       width=\"24px\">\n",
              "    <path d=\"M0 0h24v24H0V0z\" fill=\"none\"/>\n",
              "    <path d=\"M18.56 5.44l.94 2.06.94-2.06 2.06-.94-2.06-.94-.94-2.06-.94 2.06-2.06.94zm-11 1L8.5 8.5l.94-2.06 2.06-.94-2.06-.94L8.5 2.5l-.94 2.06-2.06.94zm10 10l.94 2.06.94-2.06 2.06-.94-2.06-.94-.94-2.06-.94 2.06-2.06.94z\"/><path d=\"M17.41 7.96l-1.37-1.37c-.4-.4-.92-.59-1.43-.59-.52 0-1.04.2-1.43.59L10.3 9.45l-7.72 7.72c-.78.78-.78 2.05 0 2.83L4 21.41c.39.39.9.59 1.41.59.51 0 1.02-.2 1.41-.59l7.78-7.78 2.81-2.81c.8-.78.8-2.07 0-2.86zM5.41 20L4 18.59l7.72-7.72 1.47 1.35L5.41 20z\"/>\n",
              "  </svg>\n",
              "      </button>\n",
              "      \n",
              "  <style>\n",
              "    .colab-df-container {\n",
              "      display:flex;\n",
              "      flex-wrap:wrap;\n",
              "      gap: 12px;\n",
              "    }\n",
              "\n",
              "    .colab-df-convert {\n",
              "      background-color: #E8F0FE;\n",
              "      border: none;\n",
              "      border-radius: 50%;\n",
              "      cursor: pointer;\n",
              "      display: none;\n",
              "      fill: #1967D2;\n",
              "      height: 32px;\n",
              "      padding: 0 0 0 0;\n",
              "      width: 32px;\n",
              "    }\n",
              "\n",
              "    .colab-df-convert:hover {\n",
              "      background-color: #E2EBFA;\n",
              "      box-shadow: 0px 1px 2px rgba(60, 64, 67, 0.3), 0px 1px 3px 1px rgba(60, 64, 67, 0.15);\n",
              "      fill: #174EA6;\n",
              "    }\n",
              "\n",
              "    [theme=dark] .colab-df-convert {\n",
              "      background-color: #3B4455;\n",
              "      fill: #D2E3FC;\n",
              "    }\n",
              "\n",
              "    [theme=dark] .colab-df-convert:hover {\n",
              "      background-color: #434B5C;\n",
              "      box-shadow: 0px 1px 3px 1px rgba(0, 0, 0, 0.15);\n",
              "      filter: drop-shadow(0px 1px 2px rgba(0, 0, 0, 0.3));\n",
              "      fill: #FFFFFF;\n",
              "    }\n",
              "  </style>\n",
              "\n",
              "      <script>\n",
              "        const buttonEl =\n",
              "          document.querySelector('#df-6d4f21bf-e267-4ab2-b3fc-825d3b6ed8dd button.colab-df-convert');\n",
              "        buttonEl.style.display =\n",
              "          google.colab.kernel.accessAllowed ? 'block' : 'none';\n",
              "\n",
              "        async function convertToInteractive(key) {\n",
              "          const element = document.querySelector('#df-6d4f21bf-e267-4ab2-b3fc-825d3b6ed8dd');\n",
              "          const dataTable =\n",
              "            await google.colab.kernel.invokeFunction('convertToInteractive',\n",
              "                                                     [key], {});\n",
              "          if (!dataTable) return;\n",
              "\n",
              "          const docLinkHtml = 'Like what you see? Visit the ' +\n",
              "            '<a target=\"_blank\" href=https://colab.research.google.com/notebooks/data_table.ipynb>data table notebook</a>'\n",
              "            + ' to learn more about interactive tables.';\n",
              "          element.innerHTML = '';\n",
              "          dataTable['output_type'] = 'display_data';\n",
              "          await google.colab.output.renderOutput(dataTable, element);\n",
              "          const docLink = document.createElement('div');\n",
              "          docLink.innerHTML = docLinkHtml;\n",
              "          element.appendChild(docLink);\n",
              "        }\n",
              "      </script>\n",
              "    </div>\n",
              "  </div>\n",
              "  "
            ]
          },
          "metadata": {},
          "execution_count": 35
        }
      ],
      "source": [
        "tokenized = [] # 데이터프레임의 한 컬럼으로 추가할 리스트\n",
        "for sentence in train['preprocessed']: # 전처리된 리뷰들을 하나씩 꺼내옵니다\n",
        "    # To do\n",
        "    # 형태소 분석 (어간 추출로 옵션 설정)\n",
        "    tokens = [word[0] for word in okt.pos(sentence, stem=True)]\n",
        "    tokenize = \" \".join(tokens) # tokens라는 리스트 안의 형태소들을 띄어쓰기로 분리된 하나의 문자열로 join시켜줍니다.\n",
        "    tokenized.append(tokenize) # 형태소 단위로 띄어쓰기된 문자열을 최종 리스트에 추가해줍니다\n",
        "train[\"tokenized_stem\"] = pd.DataFrame(tokenized) # 리스트를 데이터프레임으로 변환해 tokenized_stem라는 컬럼명으로 추가해줍니다.\n",
        "\n",
        "train.head() # 데이터 확인"
      ]
    },
    {
      "cell_type": "markdown",
      "metadata": {
        "id": "d4O8ZttGxzYh"
      },
      "source": [
        "형태소 분석 및 어간 추출을 완료한 \"tokenized\" 컬럼이 추가되었습니다!"
      ]
    },
    {
      "cell_type": "markdown",
      "metadata": {
        "id": "CCFNmsj7xzYh"
      },
      "source": [
        "### 품사 태깅(POS Tagging)\n",
        "\n",
        "자 이제 다음 단계인 품사 태깅에 대해 알아봅시다.\n",
        "\n",
        "품사 태깅이란 주어진 텍스트를 형태소 단위로 나눈 뒤, 각 형태소에 해당 품사를 태깅하여 리스트화 하는 것입니다."
      ]
    },
    {
      "cell_type": "markdown",
      "metadata": {
        "id": "gQaS_U04xzYj"
      },
      "source": [
        "한 예시를 살펴보니 Noun, Josa, Adverb, Adjective, Verb, Suffix, Punctuation, KoreanParticle 등으로 품사가 태깅되어 하나의 리스트 형태로 반환됩니다\n",
        "\n",
        "태그되는 품사의 종류는 더 다양하니 직접 다양한 문장을 이용해 공부해보세요!\n",
        "\n",
        "okt의 pos 함수만을 이용해 토큰화와 품사 태깅을 한번에 할 수 있습니다.\n",
        "\n",
        "품사 태깅은 꼭 필요한 품사(ex. 명사)를 추출할 때 유용하게 쓰일 수 있겠네요.\n",
        "\n",
        "바로 명사를 추출해볼까요?"
      ]
    },
    {
      "cell_type": "code",
      "execution_count": 36,
      "metadata": {
        "id": "yEWOrDafxzYj",
        "outputId": "49c913bf-cc5f-488b-ff37-49333b96eb4a",
        "colab": {
          "base_uri": "https://localhost:8080/"
        }
      },
      "outputs": [
        {
          "output_type": "stream",
          "name": "stdout",
          "text": [
            "['오늘', '코딩', '자연어', '처리', '고수']\n"
          ]
        }
      ],
      "source": [
        "print(okt.nouns(\"오늘도 열심히 재밌는 코딩을 해볼까? 같이 힘내서 자연어 처리 고수들이 됩시다! ㅎㅎ\"))"
      ]
    },
    {
      "cell_type": "markdown",
      "metadata": {
        "id": "fYpUkWnExzYk"
      },
      "source": [
        "okt의 nouns 함수를 사용해 간편하게 명사만을 추출하였습니다!\n",
        "\n",
        "이렇게 간단하게 명사만을 추출할수도 있지만, 영화 리뷰는 명사만으로 긍/부정을 판단하기 어렵기 때문에 \n",
        "\n",
        "우선 임의로 명사, 동사, 형용사, 부사를 추출하여 사용해보겠습니다. (이 부분은 직접 고민하고 수정해보세요!)"
      ]
    },
    {
      "cell_type": "code",
      "execution_count": 38,
      "metadata": {
        "id": "Y5NeznawxzYk",
        "outputId": "3177d781-22c2-4253-acb7-56c861e07a92",
        "colab": {
          "base_uri": "https://localhost:8080/",
          "height": 302
        }
      },
      "outputs": [
        {
          "output_type": "execute_result",
          "data": {
            "text/plain": [
              "   index    id                           document  label  \\\n",
              "0   4289  4290     이번 시즌 정말 재미있어요! 현숙님 결혼 축하드려요^^      1   \n",
              "1   3158  3159                   ㅋㅋㅋㅋㅋㅋㅋㅋㅋㅋㅋㅋㅋ귀엽닥      1   \n",
              "2    534   535              이거 평점 조작한거 아냐??너무 높잖아      0   \n",
              "3   4085  4086   1점도아까운 OO영화 이거 보느라 2시간날린 내가 불쌍하다      0   \n",
              "4   2531  2532  데즈카오사무 원작이라서 봤는데...극장판 퀄리티가 그닥...      0   \n",
              "\n",
              "                   preprocessed                     tokenized_stem  \\\n",
              "0   이번 시즌 정말 재미있어요 현숙님 결혼 축하드려요       이번 시즌 정말 재미있다 현숙 님 결혼 축하 드리다   \n",
              "1              ㅋㅋㅋㅋㅋㅋㅋㅋㅋㅋㅋㅋㅋ귀엽닥                  ㅋㅋㅋㅋㅋㅋㅋㅋㅋㅋㅋㅋㅋ 귀엽닥   \n",
              "2           이거 평점 조작한거 아냐너무 높잖아            이 거 평점 조 작 한 거 알다 너무 높다   \n",
              "3  점도아까운 영화 이거 보느라 시간날린 내가 불쌍하다   점도 아깝다 영화 이 거 보다 시간 날리다 내 가 불쌍하다   \n",
              "4   데즈카오사무 원작이라서 봤는데극장판 퀄리티가 그닥  데 즈 카 오 사무 원작 이라서 보다 극장판 퀄리티 가 그닥   \n",
              "\n",
              "                      main_pos  \n",
              "0  이번 시즌 정말 재미있어요 현숙 결혼 축하 드려요  \n",
              "1                          귀엽닥  \n",
              "2             거 평점 거 아냐 너무 높잖아  \n",
              "3       점도 아까운 영화 거 보느라 내 불쌍하다  \n",
              "4     데 카 사무 원작 봤는데 극장판 퀄리티 그닥  "
            ],
            "text/html": [
              "\n",
              "  <div id=\"df-2a930627-d059-4463-b8b7-4dcff8a730fc\">\n",
              "    <div class=\"colab-df-container\">\n",
              "      <div>\n",
              "<style scoped>\n",
              "    .dataframe tbody tr th:only-of-type {\n",
              "        vertical-align: middle;\n",
              "    }\n",
              "\n",
              "    .dataframe tbody tr th {\n",
              "        vertical-align: top;\n",
              "    }\n",
              "\n",
              "    .dataframe thead th {\n",
              "        text-align: right;\n",
              "    }\n",
              "</style>\n",
              "<table border=\"1\" class=\"dataframe\">\n",
              "  <thead>\n",
              "    <tr style=\"text-align: right;\">\n",
              "      <th></th>\n",
              "      <th>index</th>\n",
              "      <th>id</th>\n",
              "      <th>document</th>\n",
              "      <th>label</th>\n",
              "      <th>preprocessed</th>\n",
              "      <th>tokenized_stem</th>\n",
              "      <th>main_pos</th>\n",
              "    </tr>\n",
              "  </thead>\n",
              "  <tbody>\n",
              "    <tr>\n",
              "      <th>0</th>\n",
              "      <td>4289</td>\n",
              "      <td>4290</td>\n",
              "      <td>이번 시즌 정말 재미있어요! 현숙님 결혼 축하드려요^^</td>\n",
              "      <td>1</td>\n",
              "      <td>이번 시즌 정말 재미있어요 현숙님 결혼 축하드려요</td>\n",
              "      <td>이번 시즌 정말 재미있다 현숙 님 결혼 축하 드리다</td>\n",
              "      <td>이번 시즌 정말 재미있어요 현숙 결혼 축하 드려요</td>\n",
              "    </tr>\n",
              "    <tr>\n",
              "      <th>1</th>\n",
              "      <td>3158</td>\n",
              "      <td>3159</td>\n",
              "      <td>ㅋㅋㅋㅋㅋㅋㅋㅋㅋㅋㅋㅋㅋ귀엽닥</td>\n",
              "      <td>1</td>\n",
              "      <td>ㅋㅋㅋㅋㅋㅋㅋㅋㅋㅋㅋㅋㅋ귀엽닥</td>\n",
              "      <td>ㅋㅋㅋㅋㅋㅋㅋㅋㅋㅋㅋㅋㅋ 귀엽닥</td>\n",
              "      <td>귀엽닥</td>\n",
              "    </tr>\n",
              "    <tr>\n",
              "      <th>2</th>\n",
              "      <td>534</td>\n",
              "      <td>535</td>\n",
              "      <td>이거 평점 조작한거 아냐??너무 높잖아</td>\n",
              "      <td>0</td>\n",
              "      <td>이거 평점 조작한거 아냐너무 높잖아</td>\n",
              "      <td>이 거 평점 조 작 한 거 알다 너무 높다</td>\n",
              "      <td>거 평점 거 아냐 너무 높잖아</td>\n",
              "    </tr>\n",
              "    <tr>\n",
              "      <th>3</th>\n",
              "      <td>4085</td>\n",
              "      <td>4086</td>\n",
              "      <td>1점도아까운 OO영화 이거 보느라 2시간날린 내가 불쌍하다</td>\n",
              "      <td>0</td>\n",
              "      <td>점도아까운 영화 이거 보느라 시간날린 내가 불쌍하다</td>\n",
              "      <td>점도 아깝다 영화 이 거 보다 시간 날리다 내 가 불쌍하다</td>\n",
              "      <td>점도 아까운 영화 거 보느라 내 불쌍하다</td>\n",
              "    </tr>\n",
              "    <tr>\n",
              "      <th>4</th>\n",
              "      <td>2531</td>\n",
              "      <td>2532</td>\n",
              "      <td>데즈카오사무 원작이라서 봤는데...극장판 퀄리티가 그닥...</td>\n",
              "      <td>0</td>\n",
              "      <td>데즈카오사무 원작이라서 봤는데극장판 퀄리티가 그닥</td>\n",
              "      <td>데 즈 카 오 사무 원작 이라서 보다 극장판 퀄리티 가 그닥</td>\n",
              "      <td>데 카 사무 원작 봤는데 극장판 퀄리티 그닥</td>\n",
              "    </tr>\n",
              "  </tbody>\n",
              "</table>\n",
              "</div>\n",
              "      <button class=\"colab-df-convert\" onclick=\"convertToInteractive('df-2a930627-d059-4463-b8b7-4dcff8a730fc')\"\n",
              "              title=\"Convert this dataframe to an interactive table.\"\n",
              "              style=\"display:none;\">\n",
              "        \n",
              "  <svg xmlns=\"http://www.w3.org/2000/svg\" height=\"24px\"viewBox=\"0 0 24 24\"\n",
              "       width=\"24px\">\n",
              "    <path d=\"M0 0h24v24H0V0z\" fill=\"none\"/>\n",
              "    <path d=\"M18.56 5.44l.94 2.06.94-2.06 2.06-.94-2.06-.94-.94-2.06-.94 2.06-2.06.94zm-11 1L8.5 8.5l.94-2.06 2.06-.94-2.06-.94L8.5 2.5l-.94 2.06-2.06.94zm10 10l.94 2.06.94-2.06 2.06-.94-2.06-.94-.94-2.06-.94 2.06-2.06.94z\"/><path d=\"M17.41 7.96l-1.37-1.37c-.4-.4-.92-.59-1.43-.59-.52 0-1.04.2-1.43.59L10.3 9.45l-7.72 7.72c-.78.78-.78 2.05 0 2.83L4 21.41c.39.39.9.59 1.41.59.51 0 1.02-.2 1.41-.59l7.78-7.78 2.81-2.81c.8-.78.8-2.07 0-2.86zM5.41 20L4 18.59l7.72-7.72 1.47 1.35L5.41 20z\"/>\n",
              "  </svg>\n",
              "      </button>\n",
              "      \n",
              "  <style>\n",
              "    .colab-df-container {\n",
              "      display:flex;\n",
              "      flex-wrap:wrap;\n",
              "      gap: 12px;\n",
              "    }\n",
              "\n",
              "    .colab-df-convert {\n",
              "      background-color: #E8F0FE;\n",
              "      border: none;\n",
              "      border-radius: 50%;\n",
              "      cursor: pointer;\n",
              "      display: none;\n",
              "      fill: #1967D2;\n",
              "      height: 32px;\n",
              "      padding: 0 0 0 0;\n",
              "      width: 32px;\n",
              "    }\n",
              "\n",
              "    .colab-df-convert:hover {\n",
              "      background-color: #E2EBFA;\n",
              "      box-shadow: 0px 1px 2px rgba(60, 64, 67, 0.3), 0px 1px 3px 1px rgba(60, 64, 67, 0.15);\n",
              "      fill: #174EA6;\n",
              "    }\n",
              "\n",
              "    [theme=dark] .colab-df-convert {\n",
              "      background-color: #3B4455;\n",
              "      fill: #D2E3FC;\n",
              "    }\n",
              "\n",
              "    [theme=dark] .colab-df-convert:hover {\n",
              "      background-color: #434B5C;\n",
              "      box-shadow: 0px 1px 3px 1px rgba(0, 0, 0, 0.15);\n",
              "      filter: drop-shadow(0px 1px 2px rgba(0, 0, 0, 0.3));\n",
              "      fill: #FFFFFF;\n",
              "    }\n",
              "  </style>\n",
              "\n",
              "      <script>\n",
              "        const buttonEl =\n",
              "          document.querySelector('#df-2a930627-d059-4463-b8b7-4dcff8a730fc button.colab-df-convert');\n",
              "        buttonEl.style.display =\n",
              "          google.colab.kernel.accessAllowed ? 'block' : 'none';\n",
              "\n",
              "        async function convertToInteractive(key) {\n",
              "          const element = document.querySelector('#df-2a930627-d059-4463-b8b7-4dcff8a730fc');\n",
              "          const dataTable =\n",
              "            await google.colab.kernel.invokeFunction('convertToInteractive',\n",
              "                                                     [key], {});\n",
              "          if (!dataTable) return;\n",
              "\n",
              "          const docLinkHtml = 'Like what you see? Visit the ' +\n",
              "            '<a target=\"_blank\" href=https://colab.research.google.com/notebooks/data_table.ipynb>data table notebook</a>'\n",
              "            + ' to learn more about interactive tables.';\n",
              "          element.innerHTML = '';\n",
              "          dataTable['output_type'] = 'display_data';\n",
              "          await google.colab.output.renderOutput(dataTable, element);\n",
              "          const docLink = document.createElement('div');\n",
              "          docLink.innerHTML = docLinkHtml;\n",
              "          element.appendChild(docLink);\n",
              "        }\n",
              "      </script>\n",
              "    </div>\n",
              "  </div>\n",
              "  "
            ]
          },
          "metadata": {},
          "execution_count": 38
        }
      ],
      "source": [
        "main_pos = [] # 데이터프레임의 새 컬럼이 될 리스트\n",
        "for sentence in train['document']: # 리뷰들을 하나씩 가져옵니다\n",
        "    # To do\n",
        "    # 품사 태깅으로 형태소 분석을 진행하고 해당 리스트를 pos라는 변수로 받습니다\n",
        "    pos = okt.pos(sentence)\n",
        "    main_words = [word_pos[0] for word_pos in pos if word_pos[1] in (\"Noun\", \"Adverb\", \"Adjective\", \"Verb\")] # 가져오고자 하는 품사에 해당하면 해당 형태소를 main_words 리스트에 추가합니다.\n",
        "    main_words_str = \" \".join(main_words) # main_words 리스트 안의 형태소들을 띄어쓰기로 분리된 하나의 문자열로 join시켜줍니다.\n",
        "    main_pos.append(main_words_str) # 선택한 형태소들로 이루어진 문자열을 최종 리스트에 추가해줍니다\n",
        "train[\"main_pos\"] = pd.DataFrame(main_pos) # 리스트를 데이터프레임으로 변환해 main_pos라는 컬럼명으로 추가해줍니다.\n",
        "\n",
        "train.head() # 데이터 확인"
      ]
    },
    {
      "cell_type": "markdown",
      "metadata": {
        "id": "0rC48SZmxzYl"
      },
      "source": [
        "자 이제 총 세 개의 전처리된 컬럼이 생성되었습니다!\n",
        "\n",
        "어떤 전처리 과정이 성능이 가장 잘 나올지는 미지수입니다. 직접 다양한 시도를 통해 최적의 전처리 프로세스를 찾아보세요~\n",
        "\n",
        "이번 베이스라인에서는 마지막에 생성한 main_pos 컬럼을 이용해 모델 학습을 진행하겠습니다."
      ]
    },
    {
      "cell_type": "markdown",
      "metadata": {
        "id": "csQKUqYNxzYl"
      },
      "source": [
        "### 벡터화\n",
        "\n",
        "CountVectorizer를 사용하였습니다. "
      ]
    },
    {
      "cell_type": "code",
      "execution_count": 46,
      "metadata": {
        "id": "FgLiiwwrxzYl"
      },
      "outputs": [],
      "source": [
        "X_train = train.main_pos #training 데이터에서 문서 추출\n",
        "y_train = train.label #training 데이터에서 라벨 추출"
      ]
    },
    {
      "cell_type": "code",
      "execution_count": 48,
      "metadata": {
        "id": "s8i5bjQpxzYm"
      },
      "outputs": [],
      "source": [
        "from sklearn.feature_extraction.text import CountVectorizer\n",
        "# To do\n",
        "vectorizer = CountVectorizer()#countvectorizer 생성\n",
        "vectorizer.fit(X_train)# countvectorizer 학습\n",
        "X_train_vec = vectorizer.transform(X_train)# transform"
      ]
    },
    {
      "cell_type": "markdown",
      "metadata": {
        "id": "rGt6dzjVxzYm"
      },
      "source": [
        "### 모델 학습"
      ]
    },
    {
      "cell_type": "code",
      "execution_count": 49,
      "metadata": {
        "id": "zYcjr36dxzYm",
        "outputId": "b720c440-0b95-4853-ccf4-8de0a341ad1a",
        "colab": {
          "base_uri": "https://localhost:8080/"
        }
      },
      "outputs": [
        {
          "output_type": "execute_result",
          "data": {
            "text/plain": [
              "LogisticRegression()"
            ]
          },
          "metadata": {},
          "execution_count": 49
        }
      ],
      "source": [
        "from sklearn.linear_model import LogisticRegression #모델 불러오기\n",
        "model = LogisticRegression() #객체에 모델 할당\n",
        "model.fit(X_train_vec, y_train) #모델 학습"
      ]
    },
    {
      "cell_type": "markdown",
      "metadata": {
        "id": "F_jE_ICnxzYn"
      },
      "source": [
        "### 검증셋으로 모델 성능 검증"
      ]
    },
    {
      "cell_type": "markdown",
      "metadata": {
        "id": "Ch_s74HHxzYn"
      },
      "source": [
        "먼저 검증 셋 val에 train 셋과 동일한 전처리 과정을 거쳐줍니다."
      ]
    },
    {
      "cell_type": "code",
      "execution_count": 52,
      "metadata": {
        "id": "rlS82zKBxzYn",
        "outputId": "a98f493b-d613-4180-84c0-b50a0adfc376",
        "colab": {
          "base_uri": "https://localhost:8080/",
          "height": 337
        }
      },
      "outputs": [
        {
          "output_type": "execute_result",
          "data": {
            "text/plain": [
              "   index    id                                  document  label  \\\n",
              "0   3150  3151              살인내용과 해결방법이 좀 그렇지만 나름 재밌네요..      1   \n",
              "1    356   357    정말 잘만든 드라마였습니다 . 좋은결말이었지만 너무일찍끝나 아쉽네요~      1   \n",
              "2   2070  2071  김승우와 박유천의 빛나는 멋진 연기를 볼수 있는 드라마입니다.넘재밌어요.      1   \n",
              "3   4104  4105       억지감동 억지연기 진짜3류다 그나마 우리 귀요미 효진의 발견ㅋㅋ      0   \n",
              "4   2252  2253  정말 재미있었다. 역시 일본이다. 스토리 부문은 일본이 세계에서 최고다.      1   \n",
              "\n",
              "                             preprocessed  \\\n",
              "0              살인내용과 해결방법이 좀 그렇지만 나름 재밌네요   \n",
              "1     정말 잘만든 드라마였습니다 좋은결말이었지만 너무일찍끝나 아쉽네요   \n",
              "2  김승우와 박유천의 빛나는 멋진 연기를 볼수 있는 드라마입니다넘재밌어요   \n",
              "3      억지감동 억지연기 진짜류다 그나마 우리 귀요미 효진의 발견ㅋㅋ   \n",
              "4   정말 재미있었다 역시 일본이다 스토리 부문은 일본이 세계에서 최고다   \n",
              "\n",
              "                                 tokenized_stem  \\\n",
              "0                 살인 내용 과 해결 방법 이 좀 그렇지만 나름 재밌다   \n",
              "1         정말 잘만 든 드라마 이다 좋다 결말 이다 너무 일찍 끝나다 아쉽다   \n",
              "2  김승우 와 박유천 의 빛나다 멋지다 연기 를 보다 있다 드라마 이다 넘다 재밌다   \n",
              "3      억지 감동 억지 연기 진짜 류 다 그나마 우리 귀요미 효진 의 발견 ㅋㅋ   \n",
              "4      정말 재미있다 역시 일본 이다 스토리 부문 은 일본 이 세계 에서 최고다   \n",
              "\n",
              "                                  main_pos  \n",
              "0                    살인 내용 해결 방법 좀 나름 재밌네요  \n",
              "1  정말 잘만 드라마 였습니다 좋은 결말 이었지만 너무 일찍 끝나 아쉽네요  \n",
              "2   김승우 박유천 빛나는 멋진 연기 볼수 있는 드라마 입니다 넘 재밌어요  \n",
              "3        억지 감동 억지 연기 진짜 류 그나마 우리 귀요미 효진 발견  \n",
              "4          정말 재미있었다 역시 일본 스토리 부문 일본 세계 최고다  "
            ],
            "text/html": [
              "\n",
              "  <div id=\"df-92ec728e-7b50-4863-aeb3-72a5d3f04c96\">\n",
              "    <div class=\"colab-df-container\">\n",
              "      <div>\n",
              "<style scoped>\n",
              "    .dataframe tbody tr th:only-of-type {\n",
              "        vertical-align: middle;\n",
              "    }\n",
              "\n",
              "    .dataframe tbody tr th {\n",
              "        vertical-align: top;\n",
              "    }\n",
              "\n",
              "    .dataframe thead th {\n",
              "        text-align: right;\n",
              "    }\n",
              "</style>\n",
              "<table border=\"1\" class=\"dataframe\">\n",
              "  <thead>\n",
              "    <tr style=\"text-align: right;\">\n",
              "      <th></th>\n",
              "      <th>index</th>\n",
              "      <th>id</th>\n",
              "      <th>document</th>\n",
              "      <th>label</th>\n",
              "      <th>preprocessed</th>\n",
              "      <th>tokenized_stem</th>\n",
              "      <th>main_pos</th>\n",
              "    </tr>\n",
              "  </thead>\n",
              "  <tbody>\n",
              "    <tr>\n",
              "      <th>0</th>\n",
              "      <td>3150</td>\n",
              "      <td>3151</td>\n",
              "      <td>살인내용과 해결방법이 좀 그렇지만 나름 재밌네요..</td>\n",
              "      <td>1</td>\n",
              "      <td>살인내용과 해결방법이 좀 그렇지만 나름 재밌네요</td>\n",
              "      <td>살인 내용 과 해결 방법 이 좀 그렇지만 나름 재밌다</td>\n",
              "      <td>살인 내용 해결 방법 좀 나름 재밌네요</td>\n",
              "    </tr>\n",
              "    <tr>\n",
              "      <th>1</th>\n",
              "      <td>356</td>\n",
              "      <td>357</td>\n",
              "      <td>정말 잘만든 드라마였습니다 . 좋은결말이었지만 너무일찍끝나 아쉽네요~</td>\n",
              "      <td>1</td>\n",
              "      <td>정말 잘만든 드라마였습니다 좋은결말이었지만 너무일찍끝나 아쉽네요</td>\n",
              "      <td>정말 잘만 든 드라마 이다 좋다 결말 이다 너무 일찍 끝나다 아쉽다</td>\n",
              "      <td>정말 잘만 드라마 였습니다 좋은 결말 이었지만 너무 일찍 끝나 아쉽네요</td>\n",
              "    </tr>\n",
              "    <tr>\n",
              "      <th>2</th>\n",
              "      <td>2070</td>\n",
              "      <td>2071</td>\n",
              "      <td>김승우와 박유천의 빛나는 멋진 연기를 볼수 있는 드라마입니다.넘재밌어요.</td>\n",
              "      <td>1</td>\n",
              "      <td>김승우와 박유천의 빛나는 멋진 연기를 볼수 있는 드라마입니다넘재밌어요</td>\n",
              "      <td>김승우 와 박유천 의 빛나다 멋지다 연기 를 보다 있다 드라마 이다 넘다 재밌다</td>\n",
              "      <td>김승우 박유천 빛나는 멋진 연기 볼수 있는 드라마 입니다 넘 재밌어요</td>\n",
              "    </tr>\n",
              "    <tr>\n",
              "      <th>3</th>\n",
              "      <td>4104</td>\n",
              "      <td>4105</td>\n",
              "      <td>억지감동 억지연기 진짜3류다 그나마 우리 귀요미 효진의 발견ㅋㅋ</td>\n",
              "      <td>0</td>\n",
              "      <td>억지감동 억지연기 진짜류다 그나마 우리 귀요미 효진의 발견ㅋㅋ</td>\n",
              "      <td>억지 감동 억지 연기 진짜 류 다 그나마 우리 귀요미 효진 의 발견 ㅋㅋ</td>\n",
              "      <td>억지 감동 억지 연기 진짜 류 그나마 우리 귀요미 효진 발견</td>\n",
              "    </tr>\n",
              "    <tr>\n",
              "      <th>4</th>\n",
              "      <td>2252</td>\n",
              "      <td>2253</td>\n",
              "      <td>정말 재미있었다. 역시 일본이다. 스토리 부문은 일본이 세계에서 최고다.</td>\n",
              "      <td>1</td>\n",
              "      <td>정말 재미있었다 역시 일본이다 스토리 부문은 일본이 세계에서 최고다</td>\n",
              "      <td>정말 재미있다 역시 일본 이다 스토리 부문 은 일본 이 세계 에서 최고다</td>\n",
              "      <td>정말 재미있었다 역시 일본 스토리 부문 일본 세계 최고다</td>\n",
              "    </tr>\n",
              "  </tbody>\n",
              "</table>\n",
              "</div>\n",
              "      <button class=\"colab-df-convert\" onclick=\"convertToInteractive('df-92ec728e-7b50-4863-aeb3-72a5d3f04c96')\"\n",
              "              title=\"Convert this dataframe to an interactive table.\"\n",
              "              style=\"display:none;\">\n",
              "        \n",
              "  <svg xmlns=\"http://www.w3.org/2000/svg\" height=\"24px\"viewBox=\"0 0 24 24\"\n",
              "       width=\"24px\">\n",
              "    <path d=\"M0 0h24v24H0V0z\" fill=\"none\"/>\n",
              "    <path d=\"M18.56 5.44l.94 2.06.94-2.06 2.06-.94-2.06-.94-.94-2.06-.94 2.06-2.06.94zm-11 1L8.5 8.5l.94-2.06 2.06-.94-2.06-.94L8.5 2.5l-.94 2.06-2.06.94zm10 10l.94 2.06.94-2.06 2.06-.94-2.06-.94-.94-2.06-.94 2.06-2.06.94z\"/><path d=\"M17.41 7.96l-1.37-1.37c-.4-.4-.92-.59-1.43-.59-.52 0-1.04.2-1.43.59L10.3 9.45l-7.72 7.72c-.78.78-.78 2.05 0 2.83L4 21.41c.39.39.9.59 1.41.59.51 0 1.02-.2 1.41-.59l7.78-7.78 2.81-2.81c.8-.78.8-2.07 0-2.86zM5.41 20L4 18.59l7.72-7.72 1.47 1.35L5.41 20z\"/>\n",
              "  </svg>\n",
              "      </button>\n",
              "      \n",
              "  <style>\n",
              "    .colab-df-container {\n",
              "      display:flex;\n",
              "      flex-wrap:wrap;\n",
              "      gap: 12px;\n",
              "    }\n",
              "\n",
              "    .colab-df-convert {\n",
              "      background-color: #E8F0FE;\n",
              "      border: none;\n",
              "      border-radius: 50%;\n",
              "      cursor: pointer;\n",
              "      display: none;\n",
              "      fill: #1967D2;\n",
              "      height: 32px;\n",
              "      padding: 0 0 0 0;\n",
              "      width: 32px;\n",
              "    }\n",
              "\n",
              "    .colab-df-convert:hover {\n",
              "      background-color: #E2EBFA;\n",
              "      box-shadow: 0px 1px 2px rgba(60, 64, 67, 0.3), 0px 1px 3px 1px rgba(60, 64, 67, 0.15);\n",
              "      fill: #174EA6;\n",
              "    }\n",
              "\n",
              "    [theme=dark] .colab-df-convert {\n",
              "      background-color: #3B4455;\n",
              "      fill: #D2E3FC;\n",
              "    }\n",
              "\n",
              "    [theme=dark] .colab-df-convert:hover {\n",
              "      background-color: #434B5C;\n",
              "      box-shadow: 0px 1px 3px 1px rgba(0, 0, 0, 0.15);\n",
              "      filter: drop-shadow(0px 1px 2px rgba(0, 0, 0, 0.3));\n",
              "      fill: #FFFFFF;\n",
              "    }\n",
              "  </style>\n",
              "\n",
              "      <script>\n",
              "        const buttonEl =\n",
              "          document.querySelector('#df-92ec728e-7b50-4863-aeb3-72a5d3f04c96 button.colab-df-convert');\n",
              "        buttonEl.style.display =\n",
              "          google.colab.kernel.accessAllowed ? 'block' : 'none';\n",
              "\n",
              "        async function convertToInteractive(key) {\n",
              "          const element = document.querySelector('#df-92ec728e-7b50-4863-aeb3-72a5d3f04c96');\n",
              "          const dataTable =\n",
              "            await google.colab.kernel.invokeFunction('convertToInteractive',\n",
              "                                                     [key], {});\n",
              "          if (!dataTable) return;\n",
              "\n",
              "          const docLinkHtml = 'Like what you see? Visit the ' +\n",
              "            '<a target=\"_blank\" href=https://colab.research.google.com/notebooks/data_table.ipynb>data table notebook</a>'\n",
              "            + ' to learn more about interactive tables.';\n",
              "          element.innerHTML = '';\n",
              "          dataTable['output_type'] = 'display_data';\n",
              "          await google.colab.output.renderOutput(dataTable, element);\n",
              "          const docLink = document.createElement('div');\n",
              "          docLink.innerHTML = docLinkHtml;\n",
              "          element.appendChild(docLink);\n",
              "        }\n",
              "      </script>\n",
              "    </div>\n",
              "  </div>\n",
              "  "
            ]
          },
          "metadata": {},
          "execution_count": 52
        }
      ],
      "source": [
        "# preprocessed\n",
        "val['preprocessed'] = val['document'].str.replace(\"[^ㄱ-ㅎㅏ-ㅣ가-힣 ]\",\"\") # 한글과 공백을 제외하고 모두 제거\n",
        "val['preprocessed'] = val['preprocessed'].str.replace(\" +\", \" \") # 다중 공백 제거\n",
        "\n",
        "# tokenized_stem\n",
        "tokenized = []\n",
        "for sentence in val['preprocessed']:\n",
        "    # To do\n",
        "    tokens =  [word[0] for word in okt.pos(sentence, stem=True)]#형태소 분석 어간 추출 옵션\n",
        "    tokenize = \" \".join(tokens)\n",
        "    tokenized.append(tokenize)\n",
        "val[\"tokenized_stem\"] = pd.DataFrame(tokenized)\n",
        "\n",
        "# main_pos\n",
        "main_pos = []\n",
        "for sentence in val['document']:\n",
        "    # To do\n",
        "    pos = okt.pos(sentence)# 품사 태깅 형태소 분석\n",
        "    main_words = [word_pos[0] for word_pos in pos if word_pos[1] in (\"Noun\", \"Adverb\", \"Adjective\", \"Verb\")]# 원하는 품사 선택\n",
        "    main_words_str = \" \".join(main_words)\n",
        "    main_pos.append(main_words_str)\n",
        "val[\"main_pos\"] = pd.DataFrame(main_pos)\n",
        "\n",
        "val.head()"
      ]
    },
    {
      "cell_type": "markdown",
      "metadata": {
        "id": "3OkudJa5xzYo"
      },
      "source": [
        "학습한 모델로 예측할 X를 벡터화해줍니다."
      ]
    },
    {
      "cell_type": "code",
      "execution_count": 53,
      "metadata": {
        "id": "Lqwz6CoCxzYo"
      },
      "outputs": [],
      "source": [
        "X_val = val.main_pos #validation 데이터에서 전처리된 문서 추출\n",
        "y_val = val.label #validation 데이터에서 라벨 추출\n",
        "# To do\n",
        "X_val_vec = vectorizer.transform(X_val)# train셋으로 fit한 벡터라이저 이용해 transform"
      ]
    },
    {
      "cell_type": "code",
      "execution_count": 54,
      "metadata": {
        "id": "A08sNchqxzYo",
        "outputId": "027f5a5b-07c2-4cd0-8799-a13e5452a2c1",
        "colab": {
          "base_uri": "https://localhost:8080/"
        }
      },
      "outputs": [
        {
          "output_type": "stream",
          "name": "stdout",
          "text": [
            "[1 1 1 ... 0 0 0]\n"
          ]
        }
      ],
      "source": [
        "#run model\n",
        "y_pred = model.predict(X_val_vec)\n",
        "print(y_pred)\n",
        "#0:negative 1:positive"
      ]
    },
    {
      "cell_type": "code",
      "execution_count": 55,
      "metadata": {
        "id": "tP-UOGHaxzYp",
        "outputId": "a0d16923-fada-481a-ab84-18596f13f579",
        "colab": {
          "base_uri": "https://localhost:8080/"
        }
      },
      "outputs": [
        {
          "output_type": "stream",
          "name": "stdout",
          "text": [
            "accuracy = 0.8384\n"
          ]
        }
      ],
      "source": [
        "from sklearn import metrics\n",
        "print('accuracy =', metrics.accuracy_score(y_val, y_pred)) # 정확도 확인"
      ]
    },
    {
      "cell_type": "markdown",
      "metadata": {
        "id": "bDieixi3xzYp"
      },
      "source": [
        "train 셋으로 학습한 모델을 사용해 validation 셋을 예측해본 결과 0.8184의 정확도를 얻었습니다!\n",
        "\n",
        "다양한 전처리 기법과 모델들을 사용하여 성능을 높여보세요~"
      ]
    },
    {
      "cell_type": "markdown",
      "metadata": {
        "id": "RfFDg9ItxzYp"
      },
      "source": [
        "# test.csv 분류하기"
      ]
    },
    {
      "cell_type": "markdown",
      "metadata": {
        "id": "5hnPNLl1xzYp"
      },
      "source": [
        "이제 본격적으로 대회에서 주어진 정답이 없는 test 데이터의 라벨을 예측해보겠습니다.\n",
        "\n",
        "전처리 모델 학습 단계에서 test 데이터를 사용하면 data leakage로 간주되니\n",
        "\n",
        "test.csv는 반드시 모델 학습이 끝난 뒤 예측시에만 등장해야 함에 주의해주세요!\n",
        "\n",
        "train.csv를 이용한 전처리/학습을 test.cvs에 적용하는 것은 허용되지만, test.csv를 전처리/모델링에 직접적으로 이용하면 실격입니다."
      ]
    },
    {
      "cell_type": "code",
      "execution_count": 57,
      "metadata": {
        "id": "DzUx56YPxzYq",
        "outputId": "4b02e729-c620-4853-c6b7-e49c8a2d09b7",
        "colab": {
          "base_uri": "https://localhost:8080/",
          "height": 424
        }
      },
      "outputs": [
        {
          "output_type": "execute_result",
          "data": {
            "text/plain": [
              "        id                             document\n",
              "0        1                     시간 때우기 좋은 영화 지루함\n",
              "1        2  훈훈한 정이 느껴지는 영화! 가족끼리 드라마 보듯이 보면 딱~!\n",
              "2        3                    Childhood fantasy\n",
              "3        4                  멋있는 영화입니다. 잊을 수 없는!\n",
              "4        5                   너무 감동적이네요 펑펑 울었습니다\n",
              "...    ...                                  ...\n",
              "4995  4996        연계도 제대로 안되고 뭔가 부족한느낌이들고 찝찝한영화\n",
              "4996  4997           내생에 최악의 영화중 하나 졸려서 미칠뻔....\n",
              "4997  4998       지금까지 나온 드라마 중 최고였습니다. 100점 만점!\n",
              "4998  4999       영화값으로 엄청난 공연을 보았다 - 이게 웬 횡재 ..\n",
              "4999  5000              올해엔 롯데 자이언츠가 꼭 우승했으면...\n",
              "\n",
              "[5000 rows x 2 columns]"
            ],
            "text/html": [
              "\n",
              "  <div id=\"df-f8bcade9-23bf-427a-917e-018a48045088\">\n",
              "    <div class=\"colab-df-container\">\n",
              "      <div>\n",
              "<style scoped>\n",
              "    .dataframe tbody tr th:only-of-type {\n",
              "        vertical-align: middle;\n",
              "    }\n",
              "\n",
              "    .dataframe tbody tr th {\n",
              "        vertical-align: top;\n",
              "    }\n",
              "\n",
              "    .dataframe thead th {\n",
              "        text-align: right;\n",
              "    }\n",
              "</style>\n",
              "<table border=\"1\" class=\"dataframe\">\n",
              "  <thead>\n",
              "    <tr style=\"text-align: right;\">\n",
              "      <th></th>\n",
              "      <th>id</th>\n",
              "      <th>document</th>\n",
              "    </tr>\n",
              "  </thead>\n",
              "  <tbody>\n",
              "    <tr>\n",
              "      <th>0</th>\n",
              "      <td>1</td>\n",
              "      <td>시간 때우기 좋은 영화 지루함</td>\n",
              "    </tr>\n",
              "    <tr>\n",
              "      <th>1</th>\n",
              "      <td>2</td>\n",
              "      <td>훈훈한 정이 느껴지는 영화! 가족끼리 드라마 보듯이 보면 딱~!</td>\n",
              "    </tr>\n",
              "    <tr>\n",
              "      <th>2</th>\n",
              "      <td>3</td>\n",
              "      <td>Childhood fantasy</td>\n",
              "    </tr>\n",
              "    <tr>\n",
              "      <th>3</th>\n",
              "      <td>4</td>\n",
              "      <td>멋있는 영화입니다. 잊을 수 없는!</td>\n",
              "    </tr>\n",
              "    <tr>\n",
              "      <th>4</th>\n",
              "      <td>5</td>\n",
              "      <td>너무 감동적이네요 펑펑 울었습니다</td>\n",
              "    </tr>\n",
              "    <tr>\n",
              "      <th>...</th>\n",
              "      <td>...</td>\n",
              "      <td>...</td>\n",
              "    </tr>\n",
              "    <tr>\n",
              "      <th>4995</th>\n",
              "      <td>4996</td>\n",
              "      <td>연계도 제대로 안되고 뭔가 부족한느낌이들고 찝찝한영화</td>\n",
              "    </tr>\n",
              "    <tr>\n",
              "      <th>4996</th>\n",
              "      <td>4997</td>\n",
              "      <td>내생에 최악의 영화중 하나 졸려서 미칠뻔....</td>\n",
              "    </tr>\n",
              "    <tr>\n",
              "      <th>4997</th>\n",
              "      <td>4998</td>\n",
              "      <td>지금까지 나온 드라마 중 최고였습니다. 100점 만점!</td>\n",
              "    </tr>\n",
              "    <tr>\n",
              "      <th>4998</th>\n",
              "      <td>4999</td>\n",
              "      <td>영화값으로 엄청난 공연을 보았다 - 이게 웬 횡재 ..</td>\n",
              "    </tr>\n",
              "    <tr>\n",
              "      <th>4999</th>\n",
              "      <td>5000</td>\n",
              "      <td>올해엔 롯데 자이언츠가 꼭 우승했으면...</td>\n",
              "    </tr>\n",
              "  </tbody>\n",
              "</table>\n",
              "<p>5000 rows × 2 columns</p>\n",
              "</div>\n",
              "      <button class=\"colab-df-convert\" onclick=\"convertToInteractive('df-f8bcade9-23bf-427a-917e-018a48045088')\"\n",
              "              title=\"Convert this dataframe to an interactive table.\"\n",
              "              style=\"display:none;\">\n",
              "        \n",
              "  <svg xmlns=\"http://www.w3.org/2000/svg\" height=\"24px\"viewBox=\"0 0 24 24\"\n",
              "       width=\"24px\">\n",
              "    <path d=\"M0 0h24v24H0V0z\" fill=\"none\"/>\n",
              "    <path d=\"M18.56 5.44l.94 2.06.94-2.06 2.06-.94-2.06-.94-.94-2.06-.94 2.06-2.06.94zm-11 1L8.5 8.5l.94-2.06 2.06-.94-2.06-.94L8.5 2.5l-.94 2.06-2.06.94zm10 10l.94 2.06.94-2.06 2.06-.94-2.06-.94-.94-2.06-.94 2.06-2.06.94z\"/><path d=\"M17.41 7.96l-1.37-1.37c-.4-.4-.92-.59-1.43-.59-.52 0-1.04.2-1.43.59L10.3 9.45l-7.72 7.72c-.78.78-.78 2.05 0 2.83L4 21.41c.39.39.9.59 1.41.59.51 0 1.02-.2 1.41-.59l7.78-7.78 2.81-2.81c.8-.78.8-2.07 0-2.86zM5.41 20L4 18.59l7.72-7.72 1.47 1.35L5.41 20z\"/>\n",
              "  </svg>\n",
              "      </button>\n",
              "      \n",
              "  <style>\n",
              "    .colab-df-container {\n",
              "      display:flex;\n",
              "      flex-wrap:wrap;\n",
              "      gap: 12px;\n",
              "    }\n",
              "\n",
              "    .colab-df-convert {\n",
              "      background-color: #E8F0FE;\n",
              "      border: none;\n",
              "      border-radius: 50%;\n",
              "      cursor: pointer;\n",
              "      display: none;\n",
              "      fill: #1967D2;\n",
              "      height: 32px;\n",
              "      padding: 0 0 0 0;\n",
              "      width: 32px;\n",
              "    }\n",
              "\n",
              "    .colab-df-convert:hover {\n",
              "      background-color: #E2EBFA;\n",
              "      box-shadow: 0px 1px 2px rgba(60, 64, 67, 0.3), 0px 1px 3px 1px rgba(60, 64, 67, 0.15);\n",
              "      fill: #174EA6;\n",
              "    }\n",
              "\n",
              "    [theme=dark] .colab-df-convert {\n",
              "      background-color: #3B4455;\n",
              "      fill: #D2E3FC;\n",
              "    }\n",
              "\n",
              "    [theme=dark] .colab-df-convert:hover {\n",
              "      background-color: #434B5C;\n",
              "      box-shadow: 0px 1px 3px 1px rgba(0, 0, 0, 0.15);\n",
              "      filter: drop-shadow(0px 1px 2px rgba(0, 0, 0, 0.3));\n",
              "      fill: #FFFFFF;\n",
              "    }\n",
              "  </style>\n",
              "\n",
              "      <script>\n",
              "        const buttonEl =\n",
              "          document.querySelector('#df-f8bcade9-23bf-427a-917e-018a48045088 button.colab-df-convert');\n",
              "        buttonEl.style.display =\n",
              "          google.colab.kernel.accessAllowed ? 'block' : 'none';\n",
              "\n",
              "        async function convertToInteractive(key) {\n",
              "          const element = document.querySelector('#df-f8bcade9-23bf-427a-917e-018a48045088');\n",
              "          const dataTable =\n",
              "            await google.colab.kernel.invokeFunction('convertToInteractive',\n",
              "                                                     [key], {});\n",
              "          if (!dataTable) return;\n",
              "\n",
              "          const docLinkHtml = 'Like what you see? Visit the ' +\n",
              "            '<a target=\"_blank\" href=https://colab.research.google.com/notebooks/data_table.ipynb>data table notebook</a>'\n",
              "            + ' to learn more about interactive tables.';\n",
              "          element.innerHTML = '';\n",
              "          dataTable['output_type'] = 'display_data';\n",
              "          await google.colab.output.renderOutput(dataTable, element);\n",
              "          const docLink = document.createElement('div');\n",
              "          docLink.innerHTML = docLinkHtml;\n",
              "          element.appendChild(docLink);\n",
              "        }\n",
              "      </script>\n",
              "    </div>\n",
              "  </div>\n",
              "  "
            ]
          },
          "metadata": {},
          "execution_count": 57
        }
      ],
      "source": [
        "test = pd.read_csv('/content/drive/MyDrive/2022_Summer_Ybigta/0806_WordCloud/data/test.csv')\n",
        "test"
      ]
    },
    {
      "cell_type": "markdown",
      "metadata": {
        "id": "98ZogJRVxzYq"
      },
      "source": [
        "동일한 전처리 과정을 거치되, data leakage가 발생하지 않도록 주의합니다."
      ]
    },
    {
      "cell_type": "code",
      "execution_count": 58,
      "metadata": {
        "id": "K1iIpmGPxzYq",
        "outputId": "3637c76f-22f7-4256-d368-224b9c04ac58",
        "colab": {
          "base_uri": "https://localhost:8080/"
        }
      },
      "outputs": [
        {
          "output_type": "execute_result",
          "data": {
            "text/plain": [
              "id          0\n",
              "document    0\n",
              "dtype: int64"
            ]
          },
          "metadata": {},
          "execution_count": 58
        }
      ],
      "source": [
        "test.isna().sum()"
      ]
    },
    {
      "cell_type": "code",
      "execution_count": 59,
      "metadata": {
        "id": "6dYZK_XMxzYr",
        "outputId": "6e094516-dd3b-4e30-cafd-470cd9917a21",
        "colab": {
          "base_uri": "https://localhost:8080/",
          "height": 267
        }
      },
      "outputs": [
        {
          "output_type": "execute_result",
          "data": {
            "text/plain": [
              "   id                             document                      preprocessed  \\\n",
              "0   1                     시간 때우기 좋은 영화 지루함                  시간 때우기 좋은 영화 지루함   \n",
              "1   2  훈훈한 정이 느껴지는 영화! 가족끼리 드라마 보듯이 보면 딱~!  훈훈한 정이 느껴지는 영화 가족끼리 드라마 보듯이 보면 딱   \n",
              "2   3                    Childhood fantasy                                     \n",
              "3   4                  멋있는 영화입니다. 잊을 수 없는!                 멋있는 영화입니다 잊을 수 없는   \n",
              "4   5                   너무 감동적이네요 펑펑 울었습니다                너무 감동적이네요 펑펑 울었습니다   \n",
              "\n",
              "                      tokenized_stem                           main_pos  \n",
              "0                   시간 때우다 좋다 영화 지루함                   시간 때우기 좋은 영화 지루함  \n",
              "1  훈훈하다 정이 느껴지다 영화 가족 끼리 드라마 보다 보다 딱  훈훈한 정이 느껴지는 영화 가족 끼리 드라마 보듯이 보면 딱  \n",
              "2                                                                        \n",
              "3                  멋있다 영화 이다 잊다 수 없다                 멋있는 영화 입니다 잊을 수 없는  \n",
              "4                     너무 감동 적다 펑펑 울다                너무 감동 적이네요 펑펑 울었습니다  "
            ],
            "text/html": [
              "\n",
              "  <div id=\"df-e3b4d4a5-5a29-4d11-be84-e06cdb5b81ef\">\n",
              "    <div class=\"colab-df-container\">\n",
              "      <div>\n",
              "<style scoped>\n",
              "    .dataframe tbody tr th:only-of-type {\n",
              "        vertical-align: middle;\n",
              "    }\n",
              "\n",
              "    .dataframe tbody tr th {\n",
              "        vertical-align: top;\n",
              "    }\n",
              "\n",
              "    .dataframe thead th {\n",
              "        text-align: right;\n",
              "    }\n",
              "</style>\n",
              "<table border=\"1\" class=\"dataframe\">\n",
              "  <thead>\n",
              "    <tr style=\"text-align: right;\">\n",
              "      <th></th>\n",
              "      <th>id</th>\n",
              "      <th>document</th>\n",
              "      <th>preprocessed</th>\n",
              "      <th>tokenized_stem</th>\n",
              "      <th>main_pos</th>\n",
              "    </tr>\n",
              "  </thead>\n",
              "  <tbody>\n",
              "    <tr>\n",
              "      <th>0</th>\n",
              "      <td>1</td>\n",
              "      <td>시간 때우기 좋은 영화 지루함</td>\n",
              "      <td>시간 때우기 좋은 영화 지루함</td>\n",
              "      <td>시간 때우다 좋다 영화 지루함</td>\n",
              "      <td>시간 때우기 좋은 영화 지루함</td>\n",
              "    </tr>\n",
              "    <tr>\n",
              "      <th>1</th>\n",
              "      <td>2</td>\n",
              "      <td>훈훈한 정이 느껴지는 영화! 가족끼리 드라마 보듯이 보면 딱~!</td>\n",
              "      <td>훈훈한 정이 느껴지는 영화 가족끼리 드라마 보듯이 보면 딱</td>\n",
              "      <td>훈훈하다 정이 느껴지다 영화 가족 끼리 드라마 보다 보다 딱</td>\n",
              "      <td>훈훈한 정이 느껴지는 영화 가족 끼리 드라마 보듯이 보면 딱</td>\n",
              "    </tr>\n",
              "    <tr>\n",
              "      <th>2</th>\n",
              "      <td>3</td>\n",
              "      <td>Childhood fantasy</td>\n",
              "      <td></td>\n",
              "      <td></td>\n",
              "      <td></td>\n",
              "    </tr>\n",
              "    <tr>\n",
              "      <th>3</th>\n",
              "      <td>4</td>\n",
              "      <td>멋있는 영화입니다. 잊을 수 없는!</td>\n",
              "      <td>멋있는 영화입니다 잊을 수 없는</td>\n",
              "      <td>멋있다 영화 이다 잊다 수 없다</td>\n",
              "      <td>멋있는 영화 입니다 잊을 수 없는</td>\n",
              "    </tr>\n",
              "    <tr>\n",
              "      <th>4</th>\n",
              "      <td>5</td>\n",
              "      <td>너무 감동적이네요 펑펑 울었습니다</td>\n",
              "      <td>너무 감동적이네요 펑펑 울었습니다</td>\n",
              "      <td>너무 감동 적다 펑펑 울다</td>\n",
              "      <td>너무 감동 적이네요 펑펑 울었습니다</td>\n",
              "    </tr>\n",
              "  </tbody>\n",
              "</table>\n",
              "</div>\n",
              "      <button class=\"colab-df-convert\" onclick=\"convertToInteractive('df-e3b4d4a5-5a29-4d11-be84-e06cdb5b81ef')\"\n",
              "              title=\"Convert this dataframe to an interactive table.\"\n",
              "              style=\"display:none;\">\n",
              "        \n",
              "  <svg xmlns=\"http://www.w3.org/2000/svg\" height=\"24px\"viewBox=\"0 0 24 24\"\n",
              "       width=\"24px\">\n",
              "    <path d=\"M0 0h24v24H0V0z\" fill=\"none\"/>\n",
              "    <path d=\"M18.56 5.44l.94 2.06.94-2.06 2.06-.94-2.06-.94-.94-2.06-.94 2.06-2.06.94zm-11 1L8.5 8.5l.94-2.06 2.06-.94-2.06-.94L8.5 2.5l-.94 2.06-2.06.94zm10 10l.94 2.06.94-2.06 2.06-.94-2.06-.94-.94-2.06-.94 2.06-2.06.94z\"/><path d=\"M17.41 7.96l-1.37-1.37c-.4-.4-.92-.59-1.43-.59-.52 0-1.04.2-1.43.59L10.3 9.45l-7.72 7.72c-.78.78-.78 2.05 0 2.83L4 21.41c.39.39.9.59 1.41.59.51 0 1.02-.2 1.41-.59l7.78-7.78 2.81-2.81c.8-.78.8-2.07 0-2.86zM5.41 20L4 18.59l7.72-7.72 1.47 1.35L5.41 20z\"/>\n",
              "  </svg>\n",
              "      </button>\n",
              "      \n",
              "  <style>\n",
              "    .colab-df-container {\n",
              "      display:flex;\n",
              "      flex-wrap:wrap;\n",
              "      gap: 12px;\n",
              "    }\n",
              "\n",
              "    .colab-df-convert {\n",
              "      background-color: #E8F0FE;\n",
              "      border: none;\n",
              "      border-radius: 50%;\n",
              "      cursor: pointer;\n",
              "      display: none;\n",
              "      fill: #1967D2;\n",
              "      height: 32px;\n",
              "      padding: 0 0 0 0;\n",
              "      width: 32px;\n",
              "    }\n",
              "\n",
              "    .colab-df-convert:hover {\n",
              "      background-color: #E2EBFA;\n",
              "      box-shadow: 0px 1px 2px rgba(60, 64, 67, 0.3), 0px 1px 3px 1px rgba(60, 64, 67, 0.15);\n",
              "      fill: #174EA6;\n",
              "    }\n",
              "\n",
              "    [theme=dark] .colab-df-convert {\n",
              "      background-color: #3B4455;\n",
              "      fill: #D2E3FC;\n",
              "    }\n",
              "\n",
              "    [theme=dark] .colab-df-convert:hover {\n",
              "      background-color: #434B5C;\n",
              "      box-shadow: 0px 1px 3px 1px rgba(0, 0, 0, 0.15);\n",
              "      filter: drop-shadow(0px 1px 2px rgba(0, 0, 0, 0.3));\n",
              "      fill: #FFFFFF;\n",
              "    }\n",
              "  </style>\n",
              "\n",
              "      <script>\n",
              "        const buttonEl =\n",
              "          document.querySelector('#df-e3b4d4a5-5a29-4d11-be84-e06cdb5b81ef button.colab-df-convert');\n",
              "        buttonEl.style.display =\n",
              "          google.colab.kernel.accessAllowed ? 'block' : 'none';\n",
              "\n",
              "        async function convertToInteractive(key) {\n",
              "          const element = document.querySelector('#df-e3b4d4a5-5a29-4d11-be84-e06cdb5b81ef');\n",
              "          const dataTable =\n",
              "            await google.colab.kernel.invokeFunction('convertToInteractive',\n",
              "                                                     [key], {});\n",
              "          if (!dataTable) return;\n",
              "\n",
              "          const docLinkHtml = 'Like what you see? Visit the ' +\n",
              "            '<a target=\"_blank\" href=https://colab.research.google.com/notebooks/data_table.ipynb>data table notebook</a>'\n",
              "            + ' to learn more about interactive tables.';\n",
              "          element.innerHTML = '';\n",
              "          dataTable['output_type'] = 'display_data';\n",
              "          await google.colab.output.renderOutput(dataTable, element);\n",
              "          const docLink = document.createElement('div');\n",
              "          docLink.innerHTML = docLinkHtml;\n",
              "          element.appendChild(docLink);\n",
              "        }\n",
              "      </script>\n",
              "    </div>\n",
              "  </div>\n",
              "  "
            ]
          },
          "metadata": {},
          "execution_count": 59
        }
      ],
      "source": [
        "# preprocessed\n",
        "test['preprocessed'] = test['document'].str.replace(\"[^ㄱ-ㅎㅏ-ㅣ가-힣 ]\",\"\") # 한글과 공백을 제외하고 모두 제거\n",
        "test['preprocessed'] = test['preprocessed'].str.replace(\" +\", \" \") # 다중 공백 제거\n",
        "\n",
        "# tokenized_stem\n",
        "tokenized = []\n",
        "for sentence in test['preprocessed']:\n",
        "    # To do\n",
        "    tokens =  [word[0] for word in okt.pos(sentence, stem=True)] #형태소 분석, 어간 추출\n",
        "    tokenize = \" \".join(tokens)\n",
        "    tokenized.append(tokenize)\n",
        "test[\"tokenized_stem\"] = pd.DataFrame(tokenized)\n",
        "\n",
        "# main_pos\n",
        "main_pos = []\n",
        "for sentence in test['document']:\n",
        "  # To do\n",
        "    pos = okt.pos(sentence)#품사 태그\n",
        "    main_words = [word_pos[0] for word_pos in pos if word_pos[1] in (\"Noun\", \"Adverb\", \"Adjective\", \"Verb\")]# 원하는 품사 추출\n",
        "    main_words_str = \" \".join(main_words)\n",
        "    main_pos.append(main_words_str)\n",
        "test[\"main_pos\"] = pd.DataFrame(main_pos)\n",
        "\n",
        "test.head()"
      ]
    },
    {
      "cell_type": "code",
      "execution_count": 61,
      "metadata": {
        "id": "7OmdlKhhxzYr",
        "outputId": "d633bf49-ae61-4408-ddc2-7f6316aef897",
        "colab": {
          "base_uri": "https://localhost:8080/"
        }
      },
      "outputs": [
        {
          "output_type": "stream",
          "name": "stdout",
          "text": [
            "[0 1 0 ... 1 0 0]\n"
          ]
        }
      ],
      "source": [
        "X_test = test.main_pos\n",
        "# To do\n",
        "X_test_vec = vectorizer.transform(X_test)# train셋으로 fit한 벡터라이저 이용해 transform\n",
        "pred_test = model.predict(X_test_vec)\n",
        "print(pred_test)"
      ]
    },
    {
      "cell_type": "markdown",
      "source": [
        "# 워드클라우드"
      ],
      "metadata": {
        "id": "-zhqvogvj4b3"
      }
    },
    {
      "cell_type": "code",
      "source": [
        "test['pred']=pred_test"
      ],
      "metadata": {
        "id": "K8hlO6rWfEOJ"
      },
      "execution_count": 62,
      "outputs": []
    },
    {
      "cell_type": "code",
      "source": [
        "test"
      ],
      "metadata": {
        "colab": {
          "base_uri": "https://localhost:8080/",
          "height": 554
        },
        "id": "SXQ-JDkNfKWF",
        "outputId": "bcec7608-df38-47d4-f124-517e342c0546"
      },
      "execution_count": 63,
      "outputs": [
        {
          "output_type": "execute_result",
          "data": {
            "text/plain": [
              "        id                             document  \\\n",
              "0        1                     시간 때우기 좋은 영화 지루함   \n",
              "1        2  훈훈한 정이 느껴지는 영화! 가족끼리 드라마 보듯이 보면 딱~!   \n",
              "2        3                    Childhood fantasy   \n",
              "3        4                  멋있는 영화입니다. 잊을 수 없는!   \n",
              "4        5                   너무 감동적이네요 펑펑 울었습니다   \n",
              "...    ...                                  ...   \n",
              "4995  4996        연계도 제대로 안되고 뭔가 부족한느낌이들고 찝찝한영화   \n",
              "4996  4997           내생에 최악의 영화중 하나 졸려서 미칠뻔....   \n",
              "4997  4998       지금까지 나온 드라마 중 최고였습니다. 100점 만점!   \n",
              "4998  4999       영화값으로 엄청난 공연을 보았다 - 이게 웬 횡재 ..   \n",
              "4999  5000              올해엔 롯데 자이언츠가 꼭 우승했으면...   \n",
              "\n",
              "                          preprocessed                         tokenized_stem  \\\n",
              "0                     시간 때우기 좋은 영화 지루함                       시간 때우다 좋다 영화 지루함   \n",
              "1     훈훈한 정이 느껴지는 영화 가족끼리 드라마 보듯이 보면 딱      훈훈하다 정이 느껴지다 영화 가족 끼리 드라마 보다 보다 딱   \n",
              "2                                                                               \n",
              "3                    멋있는 영화입니다 잊을 수 없는                      멋있다 영화 이다 잊다 수 없다   \n",
              "4                   너무 감동적이네요 펑펑 울었습니다                         너무 감동 적다 펑펑 울다   \n",
              "...                                ...                                    ...   \n",
              "4995     연계도 제대로 안되고 뭔가 부족한느낌이들고 찝찝한영화  연 계 도 제대로 안되다 뭔가 부족하다 느낌 이 들다 찝찝하다 영화   \n",
              "4996            내생에 최악의 영화중 하나 졸려서 미칠뻔            내생 에 최악 의 영화 중 하나 졸리다 미치다 뻔   \n",
              "4997         지금까지 나온 드라마 중 최고였습니다 점 만점             지금 까지 나오다 드라마 중 최고 이다 점 만점   \n",
              "4998        영화값으로 엄청난 공연을 보았다 이게 웬 횡재           영화 값 으로 엄청나다 공연 을 보다 이 게 웬 횡재   \n",
              "4999              올해엔 롯데 자이언츠가 꼭 우승했으면                  올해 엔 롯데 자이언츠 가 꼭 우승하다   \n",
              "\n",
              "                               main_pos  pred  \n",
              "0                      시간 때우기 좋은 영화 지루함     0  \n",
              "1     훈훈한 정이 느껴지는 영화 가족 끼리 드라마 보듯이 보면 딱     1  \n",
              "2                                           0  \n",
              "3                    멋있는 영화 입니다 잊을 수 없는     1  \n",
              "4                   너무 감동 적이네요 펑펑 울었습니다     1  \n",
              "...                                 ...   ...  \n",
              "4995      계 제대로 안되고 뭔가 부족한 느낌 들고 찝찝한 영화     0  \n",
              "4996               내생 최악 영화 하나 졸려서 미칠 뻔     0  \n",
              "4997           지금 나온 드라마 중 최고 였습니다 점 만점     1  \n",
              "4998             영화 값 엄청난 공연 보았다 이 웬 횡재     0  \n",
              "4999                 올해 롯데 자이언츠 꼭 우승했으면     0  \n",
              "\n",
              "[5000 rows x 6 columns]"
            ],
            "text/html": [
              "\n",
              "  <div id=\"df-6331e916-ad00-46c0-bb47-50f5540ceeed\">\n",
              "    <div class=\"colab-df-container\">\n",
              "      <div>\n",
              "<style scoped>\n",
              "    .dataframe tbody tr th:only-of-type {\n",
              "        vertical-align: middle;\n",
              "    }\n",
              "\n",
              "    .dataframe tbody tr th {\n",
              "        vertical-align: top;\n",
              "    }\n",
              "\n",
              "    .dataframe thead th {\n",
              "        text-align: right;\n",
              "    }\n",
              "</style>\n",
              "<table border=\"1\" class=\"dataframe\">\n",
              "  <thead>\n",
              "    <tr style=\"text-align: right;\">\n",
              "      <th></th>\n",
              "      <th>id</th>\n",
              "      <th>document</th>\n",
              "      <th>preprocessed</th>\n",
              "      <th>tokenized_stem</th>\n",
              "      <th>main_pos</th>\n",
              "      <th>pred</th>\n",
              "    </tr>\n",
              "  </thead>\n",
              "  <tbody>\n",
              "    <tr>\n",
              "      <th>0</th>\n",
              "      <td>1</td>\n",
              "      <td>시간 때우기 좋은 영화 지루함</td>\n",
              "      <td>시간 때우기 좋은 영화 지루함</td>\n",
              "      <td>시간 때우다 좋다 영화 지루함</td>\n",
              "      <td>시간 때우기 좋은 영화 지루함</td>\n",
              "      <td>0</td>\n",
              "    </tr>\n",
              "    <tr>\n",
              "      <th>1</th>\n",
              "      <td>2</td>\n",
              "      <td>훈훈한 정이 느껴지는 영화! 가족끼리 드라마 보듯이 보면 딱~!</td>\n",
              "      <td>훈훈한 정이 느껴지는 영화 가족끼리 드라마 보듯이 보면 딱</td>\n",
              "      <td>훈훈하다 정이 느껴지다 영화 가족 끼리 드라마 보다 보다 딱</td>\n",
              "      <td>훈훈한 정이 느껴지는 영화 가족 끼리 드라마 보듯이 보면 딱</td>\n",
              "      <td>1</td>\n",
              "    </tr>\n",
              "    <tr>\n",
              "      <th>2</th>\n",
              "      <td>3</td>\n",
              "      <td>Childhood fantasy</td>\n",
              "      <td></td>\n",
              "      <td></td>\n",
              "      <td></td>\n",
              "      <td>0</td>\n",
              "    </tr>\n",
              "    <tr>\n",
              "      <th>3</th>\n",
              "      <td>4</td>\n",
              "      <td>멋있는 영화입니다. 잊을 수 없는!</td>\n",
              "      <td>멋있는 영화입니다 잊을 수 없는</td>\n",
              "      <td>멋있다 영화 이다 잊다 수 없다</td>\n",
              "      <td>멋있는 영화 입니다 잊을 수 없는</td>\n",
              "      <td>1</td>\n",
              "    </tr>\n",
              "    <tr>\n",
              "      <th>4</th>\n",
              "      <td>5</td>\n",
              "      <td>너무 감동적이네요 펑펑 울었습니다</td>\n",
              "      <td>너무 감동적이네요 펑펑 울었습니다</td>\n",
              "      <td>너무 감동 적다 펑펑 울다</td>\n",
              "      <td>너무 감동 적이네요 펑펑 울었습니다</td>\n",
              "      <td>1</td>\n",
              "    </tr>\n",
              "    <tr>\n",
              "      <th>...</th>\n",
              "      <td>...</td>\n",
              "      <td>...</td>\n",
              "      <td>...</td>\n",
              "      <td>...</td>\n",
              "      <td>...</td>\n",
              "      <td>...</td>\n",
              "    </tr>\n",
              "    <tr>\n",
              "      <th>4995</th>\n",
              "      <td>4996</td>\n",
              "      <td>연계도 제대로 안되고 뭔가 부족한느낌이들고 찝찝한영화</td>\n",
              "      <td>연계도 제대로 안되고 뭔가 부족한느낌이들고 찝찝한영화</td>\n",
              "      <td>연 계 도 제대로 안되다 뭔가 부족하다 느낌 이 들다 찝찝하다 영화</td>\n",
              "      <td>계 제대로 안되고 뭔가 부족한 느낌 들고 찝찝한 영화</td>\n",
              "      <td>0</td>\n",
              "    </tr>\n",
              "    <tr>\n",
              "      <th>4996</th>\n",
              "      <td>4997</td>\n",
              "      <td>내생에 최악의 영화중 하나 졸려서 미칠뻔....</td>\n",
              "      <td>내생에 최악의 영화중 하나 졸려서 미칠뻔</td>\n",
              "      <td>내생 에 최악 의 영화 중 하나 졸리다 미치다 뻔</td>\n",
              "      <td>내생 최악 영화 하나 졸려서 미칠 뻔</td>\n",
              "      <td>0</td>\n",
              "    </tr>\n",
              "    <tr>\n",
              "      <th>4997</th>\n",
              "      <td>4998</td>\n",
              "      <td>지금까지 나온 드라마 중 최고였습니다. 100점 만점!</td>\n",
              "      <td>지금까지 나온 드라마 중 최고였습니다 점 만점</td>\n",
              "      <td>지금 까지 나오다 드라마 중 최고 이다 점 만점</td>\n",
              "      <td>지금 나온 드라마 중 최고 였습니다 점 만점</td>\n",
              "      <td>1</td>\n",
              "    </tr>\n",
              "    <tr>\n",
              "      <th>4998</th>\n",
              "      <td>4999</td>\n",
              "      <td>영화값으로 엄청난 공연을 보았다 - 이게 웬 횡재 ..</td>\n",
              "      <td>영화값으로 엄청난 공연을 보았다 이게 웬 횡재</td>\n",
              "      <td>영화 값 으로 엄청나다 공연 을 보다 이 게 웬 횡재</td>\n",
              "      <td>영화 값 엄청난 공연 보았다 이 웬 횡재</td>\n",
              "      <td>0</td>\n",
              "    </tr>\n",
              "    <tr>\n",
              "      <th>4999</th>\n",
              "      <td>5000</td>\n",
              "      <td>올해엔 롯데 자이언츠가 꼭 우승했으면...</td>\n",
              "      <td>올해엔 롯데 자이언츠가 꼭 우승했으면</td>\n",
              "      <td>올해 엔 롯데 자이언츠 가 꼭 우승하다</td>\n",
              "      <td>올해 롯데 자이언츠 꼭 우승했으면</td>\n",
              "      <td>0</td>\n",
              "    </tr>\n",
              "  </tbody>\n",
              "</table>\n",
              "<p>5000 rows × 6 columns</p>\n",
              "</div>\n",
              "      <button class=\"colab-df-convert\" onclick=\"convertToInteractive('df-6331e916-ad00-46c0-bb47-50f5540ceeed')\"\n",
              "              title=\"Convert this dataframe to an interactive table.\"\n",
              "              style=\"display:none;\">\n",
              "        \n",
              "  <svg xmlns=\"http://www.w3.org/2000/svg\" height=\"24px\"viewBox=\"0 0 24 24\"\n",
              "       width=\"24px\">\n",
              "    <path d=\"M0 0h24v24H0V0z\" fill=\"none\"/>\n",
              "    <path d=\"M18.56 5.44l.94 2.06.94-2.06 2.06-.94-2.06-.94-.94-2.06-.94 2.06-2.06.94zm-11 1L8.5 8.5l.94-2.06 2.06-.94-2.06-.94L8.5 2.5l-.94 2.06-2.06.94zm10 10l.94 2.06.94-2.06 2.06-.94-2.06-.94-.94-2.06-.94 2.06-2.06.94z\"/><path d=\"M17.41 7.96l-1.37-1.37c-.4-.4-.92-.59-1.43-.59-.52 0-1.04.2-1.43.59L10.3 9.45l-7.72 7.72c-.78.78-.78 2.05 0 2.83L4 21.41c.39.39.9.59 1.41.59.51 0 1.02-.2 1.41-.59l7.78-7.78 2.81-2.81c.8-.78.8-2.07 0-2.86zM5.41 20L4 18.59l7.72-7.72 1.47 1.35L5.41 20z\"/>\n",
              "  </svg>\n",
              "      </button>\n",
              "      \n",
              "  <style>\n",
              "    .colab-df-container {\n",
              "      display:flex;\n",
              "      flex-wrap:wrap;\n",
              "      gap: 12px;\n",
              "    }\n",
              "\n",
              "    .colab-df-convert {\n",
              "      background-color: #E8F0FE;\n",
              "      border: none;\n",
              "      border-radius: 50%;\n",
              "      cursor: pointer;\n",
              "      display: none;\n",
              "      fill: #1967D2;\n",
              "      height: 32px;\n",
              "      padding: 0 0 0 0;\n",
              "      width: 32px;\n",
              "    }\n",
              "\n",
              "    .colab-df-convert:hover {\n",
              "      background-color: #E2EBFA;\n",
              "      box-shadow: 0px 1px 2px rgba(60, 64, 67, 0.3), 0px 1px 3px 1px rgba(60, 64, 67, 0.15);\n",
              "      fill: #174EA6;\n",
              "    }\n",
              "\n",
              "    [theme=dark] .colab-df-convert {\n",
              "      background-color: #3B4455;\n",
              "      fill: #D2E3FC;\n",
              "    }\n",
              "\n",
              "    [theme=dark] .colab-df-convert:hover {\n",
              "      background-color: #434B5C;\n",
              "      box-shadow: 0px 1px 3px 1px rgba(0, 0, 0, 0.15);\n",
              "      filter: drop-shadow(0px 1px 2px rgba(0, 0, 0, 0.3));\n",
              "      fill: #FFFFFF;\n",
              "    }\n",
              "  </style>\n",
              "\n",
              "      <script>\n",
              "        const buttonEl =\n",
              "          document.querySelector('#df-6331e916-ad00-46c0-bb47-50f5540ceeed button.colab-df-convert');\n",
              "        buttonEl.style.display =\n",
              "          google.colab.kernel.accessAllowed ? 'block' : 'none';\n",
              "\n",
              "        async function convertToInteractive(key) {\n",
              "          const element = document.querySelector('#df-6331e916-ad00-46c0-bb47-50f5540ceeed');\n",
              "          const dataTable =\n",
              "            await google.colab.kernel.invokeFunction('convertToInteractive',\n",
              "                                                     [key], {});\n",
              "          if (!dataTable) return;\n",
              "\n",
              "          const docLinkHtml = 'Like what you see? Visit the ' +\n",
              "            '<a target=\"_blank\" href=https://colab.research.google.com/notebooks/data_table.ipynb>data table notebook</a>'\n",
              "            + ' to learn more about interactive tables.';\n",
              "          element.innerHTML = '';\n",
              "          dataTable['output_type'] = 'display_data';\n",
              "          await google.colab.output.renderOutput(dataTable, element);\n",
              "          const docLink = document.createElement('div');\n",
              "          docLink.innerHTML = docLinkHtml;\n",
              "          element.appendChild(docLink);\n",
              "        }\n",
              "      </script>\n",
              "    </div>\n",
              "  </div>\n",
              "  "
            ]
          },
          "metadata": {},
          "execution_count": 63
        }
      ]
    },
    {
      "cell_type": "code",
      "source": [
        "df=test.copy()"
      ],
      "metadata": {
        "id": "3Zfud6gkfNQL"
      },
      "execution_count": 64,
      "outputs": []
    },
    {
      "cell_type": "code",
      "source": [
        "!pip install matplotlib"
      ],
      "metadata": {
        "colab": {
          "base_uri": "https://localhost:8080/"
        },
        "id": "eoI6_GOkfUiR",
        "outputId": "32b82125-eb2b-4c84-a675-221e4478ae55"
      },
      "execution_count": 65,
      "outputs": [
        {
          "output_type": "stream",
          "name": "stdout",
          "text": [
            "Looking in indexes: https://pypi.org/simple, https://us-python.pkg.dev/colab-wheels/public/simple/\n",
            "Requirement already satisfied: matplotlib in /usr/local/lib/python3.7/dist-packages (3.2.2)\n",
            "Requirement already satisfied: kiwisolver>=1.0.1 in /usr/local/lib/python3.7/dist-packages (from matplotlib) (1.4.4)\n",
            "Requirement already satisfied: numpy>=1.11 in /usr/local/lib/python3.7/dist-packages (from matplotlib) (1.21.6)\n",
            "Requirement already satisfied: python-dateutil>=2.1 in /usr/local/lib/python3.7/dist-packages (from matplotlib) (2.8.2)\n",
            "Requirement already satisfied: cycler>=0.10 in /usr/local/lib/python3.7/dist-packages (from matplotlib) (0.11.0)\n",
            "Requirement already satisfied: pyparsing!=2.0.4,!=2.1.2,!=2.1.6,>=2.0.1 in /usr/local/lib/python3.7/dist-packages (from matplotlib) (3.0.9)\n",
            "Requirement already satisfied: typing-extensions in /usr/local/lib/python3.7/dist-packages (from kiwisolver>=1.0.1->matplotlib) (4.1.1)\n",
            "Requirement already satisfied: six>=1.5 in /usr/local/lib/python3.7/dist-packages (from python-dateutil>=2.1->matplotlib) (1.15.0)\n"
          ]
        }
      ]
    },
    {
      "cell_type": "code",
      "source": [
        "!pip install wordcloud "
      ],
      "metadata": {
        "colab": {
          "base_uri": "https://localhost:8080/"
        },
        "id": "0GMjOsA_fYp1",
        "outputId": "895df0e5-da14-4796-9593-bea2e222f686"
      },
      "execution_count": 66,
      "outputs": [
        {
          "output_type": "stream",
          "name": "stdout",
          "text": [
            "Looking in indexes: https://pypi.org/simple, https://us-python.pkg.dev/colab-wheels/public/simple/\n",
            "Requirement already satisfied: wordcloud in /usr/local/lib/python3.7/dist-packages (1.8.2.2)\n",
            "Requirement already satisfied: matplotlib in /usr/local/lib/python3.7/dist-packages (from wordcloud) (3.2.2)\n",
            "Requirement already satisfied: numpy>=1.6.1 in /usr/local/lib/python3.7/dist-packages (from wordcloud) (1.21.6)\n",
            "Requirement already satisfied: pillow in /usr/local/lib/python3.7/dist-packages (from wordcloud) (7.1.2)\n",
            "Requirement already satisfied: pyparsing!=2.0.4,!=2.1.2,!=2.1.6,>=2.0.1 in /usr/local/lib/python3.7/dist-packages (from matplotlib->wordcloud) (3.0.9)\n",
            "Requirement already satisfied: cycler>=0.10 in /usr/local/lib/python3.7/dist-packages (from matplotlib->wordcloud) (0.11.0)\n",
            "Requirement already satisfied: kiwisolver>=1.0.1 in /usr/local/lib/python3.7/dist-packages (from matplotlib->wordcloud) (1.4.4)\n",
            "Requirement already satisfied: python-dateutil>=2.1 in /usr/local/lib/python3.7/dist-packages (from matplotlib->wordcloud) (2.8.2)\n",
            "Requirement already satisfied: typing-extensions in /usr/local/lib/python3.7/dist-packages (from kiwisolver>=1.0.1->matplotlib->wordcloud) (4.1.1)\n",
            "Requirement already satisfied: six>=1.5 in /usr/local/lib/python3.7/dist-packages (from python-dateutil>=2.1->matplotlib->wordcloud) (1.15.0)\n"
          ]
        }
      ]
    },
    {
      "cell_type": "code",
      "source": [
        "import pandas as pd\n",
        "import re\n",
        "\n",
        "from wordcloud import WordCloud, STOPWORDS\n",
        "\n",
        "from matplotlib import font_manager, rc\n",
        "import matplotlib.pyplot as plt\n",
        "\n",
        "from konlpy.tag import Okt\n",
        "from collections import Counter\n",
        "\n",
        "import matplotlib.font_manager as fm\n",
        "\n",
        "fontpath = '/content/drive/MyDrive/2022_Summer_Ybigta/0806_WordCloud/NanumGothic.ttf'\n",
        "font = fm.FontProperties(fname=fontpath, size=9)\n",
        "plt.rc('font', family='NanumGothic')\n",
        "fm._rebuild()\n"
      ],
      "metadata": {
        "id": "1DYLKVfpfh2h"
      },
      "execution_count": 86,
      "outputs": []
    },
    {
      "cell_type": "code",
      "source": [
        "pos = df[df['pred']==1] #긍정리뷰\n",
        "neg = df[df['pred']==0] #부정리뷰"
      ],
      "metadata": {
        "id": "cKgbM9W-foVC"
      },
      "execution_count": 69,
      "outputs": []
    },
    {
      "cell_type": "code",
      "source": [
        "display(pos.head())\n",
        "display(neg.head())"
      ],
      "metadata": {
        "colab": {
          "base_uri": "https://localhost:8080/",
          "height": 526
        },
        "id": "XqDws61of_yx",
        "outputId": "e237c63b-8857-4dee-dd4d-d2d889b827a5"
      },
      "execution_count": 70,
      "outputs": [
        {
          "output_type": "display_data",
          "data": {
            "text/plain": [
              "   id                             document                       preprocessed  \\\n",
              "1   2  훈훈한 정이 느껴지는 영화! 가족끼리 드라마 보듯이 보면 딱~!   훈훈한 정이 느껴지는 영화 가족끼리 드라마 보듯이 보면 딱   \n",
              "3   4                  멋있는 영화입니다. 잊을 수 없는!                  멋있는 영화입니다 잊을 수 없는   \n",
              "4   5                   너무 감동적이네요 펑펑 울었습니다                 너무 감동적이네요 펑펑 울었습니다   \n",
              "6   7    친구한테 추천받고 본 영화이지만 내가 남들한테 추천하는 영화  친구한테 추천받고 본 영화이지만 내가 남들한테 추천하는 영화   \n",
              "8   9           강배우 엄청난데... 여군버전으로 다시 안 찍나            강배우 엄청난데 여군버전으로 다시 안 찍나   \n",
              "\n",
              "                              tokenized_stem  \\\n",
              "1          훈훈하다 정이 느껴지다 영화 가족 끼리 드라마 보다 보다 딱   \n",
              "3                          멋있다 영화 이다 잊다 수 없다   \n",
              "4                             너무 감동 적다 펑펑 울다   \n",
              "6  친구 한테 추천 받다 보다 영화 이지만 내 가 남 들 한테 추천 하다 영화   \n",
              "8                강 배우 엄청나다 여군 버전 으로 다시 안 찍 나   \n",
              "\n",
              "                            main_pos  pred  \n",
              "1  훈훈한 정이 느껴지는 영화 가족 끼리 드라마 보듯이 보면 딱     1  \n",
              "3                 멋있는 영화 입니다 잊을 수 없는     1  \n",
              "4                너무 감동 적이네요 펑펑 울었습니다     1  \n",
              "6         친구 추천 받고 본 영화 내 남 추천 하는 영화     1  \n",
              "8             강 배우 엄청난데 여군 버전 다시 안 찍     1  "
            ],
            "text/html": [
              "\n",
              "  <div id=\"df-bd191bea-3c96-43ad-9526-0b3ff930fa03\">\n",
              "    <div class=\"colab-df-container\">\n",
              "      <div>\n",
              "<style scoped>\n",
              "    .dataframe tbody tr th:only-of-type {\n",
              "        vertical-align: middle;\n",
              "    }\n",
              "\n",
              "    .dataframe tbody tr th {\n",
              "        vertical-align: top;\n",
              "    }\n",
              "\n",
              "    .dataframe thead th {\n",
              "        text-align: right;\n",
              "    }\n",
              "</style>\n",
              "<table border=\"1\" class=\"dataframe\">\n",
              "  <thead>\n",
              "    <tr style=\"text-align: right;\">\n",
              "      <th></th>\n",
              "      <th>id</th>\n",
              "      <th>document</th>\n",
              "      <th>preprocessed</th>\n",
              "      <th>tokenized_stem</th>\n",
              "      <th>main_pos</th>\n",
              "      <th>pred</th>\n",
              "    </tr>\n",
              "  </thead>\n",
              "  <tbody>\n",
              "    <tr>\n",
              "      <th>1</th>\n",
              "      <td>2</td>\n",
              "      <td>훈훈한 정이 느껴지는 영화! 가족끼리 드라마 보듯이 보면 딱~!</td>\n",
              "      <td>훈훈한 정이 느껴지는 영화 가족끼리 드라마 보듯이 보면 딱</td>\n",
              "      <td>훈훈하다 정이 느껴지다 영화 가족 끼리 드라마 보다 보다 딱</td>\n",
              "      <td>훈훈한 정이 느껴지는 영화 가족 끼리 드라마 보듯이 보면 딱</td>\n",
              "      <td>1</td>\n",
              "    </tr>\n",
              "    <tr>\n",
              "      <th>3</th>\n",
              "      <td>4</td>\n",
              "      <td>멋있는 영화입니다. 잊을 수 없는!</td>\n",
              "      <td>멋있는 영화입니다 잊을 수 없는</td>\n",
              "      <td>멋있다 영화 이다 잊다 수 없다</td>\n",
              "      <td>멋있는 영화 입니다 잊을 수 없는</td>\n",
              "      <td>1</td>\n",
              "    </tr>\n",
              "    <tr>\n",
              "      <th>4</th>\n",
              "      <td>5</td>\n",
              "      <td>너무 감동적이네요 펑펑 울었습니다</td>\n",
              "      <td>너무 감동적이네요 펑펑 울었습니다</td>\n",
              "      <td>너무 감동 적다 펑펑 울다</td>\n",
              "      <td>너무 감동 적이네요 펑펑 울었습니다</td>\n",
              "      <td>1</td>\n",
              "    </tr>\n",
              "    <tr>\n",
              "      <th>6</th>\n",
              "      <td>7</td>\n",
              "      <td>친구한테 추천받고 본 영화이지만 내가 남들한테 추천하는 영화</td>\n",
              "      <td>친구한테 추천받고 본 영화이지만 내가 남들한테 추천하는 영화</td>\n",
              "      <td>친구 한테 추천 받다 보다 영화 이지만 내 가 남 들 한테 추천 하다 영화</td>\n",
              "      <td>친구 추천 받고 본 영화 내 남 추천 하는 영화</td>\n",
              "      <td>1</td>\n",
              "    </tr>\n",
              "    <tr>\n",
              "      <th>8</th>\n",
              "      <td>9</td>\n",
              "      <td>강배우 엄청난데... 여군버전으로 다시 안 찍나</td>\n",
              "      <td>강배우 엄청난데 여군버전으로 다시 안 찍나</td>\n",
              "      <td>강 배우 엄청나다 여군 버전 으로 다시 안 찍 나</td>\n",
              "      <td>강 배우 엄청난데 여군 버전 다시 안 찍</td>\n",
              "      <td>1</td>\n",
              "    </tr>\n",
              "  </tbody>\n",
              "</table>\n",
              "</div>\n",
              "      <button class=\"colab-df-convert\" onclick=\"convertToInteractive('df-bd191bea-3c96-43ad-9526-0b3ff930fa03')\"\n",
              "              title=\"Convert this dataframe to an interactive table.\"\n",
              "              style=\"display:none;\">\n",
              "        \n",
              "  <svg xmlns=\"http://www.w3.org/2000/svg\" height=\"24px\"viewBox=\"0 0 24 24\"\n",
              "       width=\"24px\">\n",
              "    <path d=\"M0 0h24v24H0V0z\" fill=\"none\"/>\n",
              "    <path d=\"M18.56 5.44l.94 2.06.94-2.06 2.06-.94-2.06-.94-.94-2.06-.94 2.06-2.06.94zm-11 1L8.5 8.5l.94-2.06 2.06-.94-2.06-.94L8.5 2.5l-.94 2.06-2.06.94zm10 10l.94 2.06.94-2.06 2.06-.94-2.06-.94-.94-2.06-.94 2.06-2.06.94z\"/><path d=\"M17.41 7.96l-1.37-1.37c-.4-.4-.92-.59-1.43-.59-.52 0-1.04.2-1.43.59L10.3 9.45l-7.72 7.72c-.78.78-.78 2.05 0 2.83L4 21.41c.39.39.9.59 1.41.59.51 0 1.02-.2 1.41-.59l7.78-7.78 2.81-2.81c.8-.78.8-2.07 0-2.86zM5.41 20L4 18.59l7.72-7.72 1.47 1.35L5.41 20z\"/>\n",
              "  </svg>\n",
              "      </button>\n",
              "      \n",
              "  <style>\n",
              "    .colab-df-container {\n",
              "      display:flex;\n",
              "      flex-wrap:wrap;\n",
              "      gap: 12px;\n",
              "    }\n",
              "\n",
              "    .colab-df-convert {\n",
              "      background-color: #E8F0FE;\n",
              "      border: none;\n",
              "      border-radius: 50%;\n",
              "      cursor: pointer;\n",
              "      display: none;\n",
              "      fill: #1967D2;\n",
              "      height: 32px;\n",
              "      padding: 0 0 0 0;\n",
              "      width: 32px;\n",
              "    }\n",
              "\n",
              "    .colab-df-convert:hover {\n",
              "      background-color: #E2EBFA;\n",
              "      box-shadow: 0px 1px 2px rgba(60, 64, 67, 0.3), 0px 1px 3px 1px rgba(60, 64, 67, 0.15);\n",
              "      fill: #174EA6;\n",
              "    }\n",
              "\n",
              "    [theme=dark] .colab-df-convert {\n",
              "      background-color: #3B4455;\n",
              "      fill: #D2E3FC;\n",
              "    }\n",
              "\n",
              "    [theme=dark] .colab-df-convert:hover {\n",
              "      background-color: #434B5C;\n",
              "      box-shadow: 0px 1px 3px 1px rgba(0, 0, 0, 0.15);\n",
              "      filter: drop-shadow(0px 1px 2px rgba(0, 0, 0, 0.3));\n",
              "      fill: #FFFFFF;\n",
              "    }\n",
              "  </style>\n",
              "\n",
              "      <script>\n",
              "        const buttonEl =\n",
              "          document.querySelector('#df-bd191bea-3c96-43ad-9526-0b3ff930fa03 button.colab-df-convert');\n",
              "        buttonEl.style.display =\n",
              "          google.colab.kernel.accessAllowed ? 'block' : 'none';\n",
              "\n",
              "        async function convertToInteractive(key) {\n",
              "          const element = document.querySelector('#df-bd191bea-3c96-43ad-9526-0b3ff930fa03');\n",
              "          const dataTable =\n",
              "            await google.colab.kernel.invokeFunction('convertToInteractive',\n",
              "                                                     [key], {});\n",
              "          if (!dataTable) return;\n",
              "\n",
              "          const docLinkHtml = 'Like what you see? Visit the ' +\n",
              "            '<a target=\"_blank\" href=https://colab.research.google.com/notebooks/data_table.ipynb>data table notebook</a>'\n",
              "            + ' to learn more about interactive tables.';\n",
              "          element.innerHTML = '';\n",
              "          dataTable['output_type'] = 'display_data';\n",
              "          await google.colab.output.renderOutput(dataTable, element);\n",
              "          const docLink = document.createElement('div');\n",
              "          docLink.innerHTML = docLinkHtml;\n",
              "          element.appendChild(docLink);\n",
              "        }\n",
              "      </script>\n",
              "    </div>\n",
              "  </div>\n",
              "  "
            ]
          },
          "metadata": {}
        },
        {
          "output_type": "display_data",
          "data": {
            "text/plain": [
              "   id                            document                        preprocessed  \\\n",
              "0   1                    시간 때우기 좋은 영화 지루함                    시간 때우기 좋은 영화 지루함   \n",
              "2   3                   Childhood fantasy                                       \n",
              "5   6  어이 김구라 자세좀 똑바로 앉어방송마다 왜케 삐딱하게 앉는거지  어이 김구라 자세좀 똑바로 앉어방송마다 왜케 삐딱하게 앉는거지   \n",
              "7   8                  머 내용은 그닥... 특별하지않다                     머 내용은 그닥 특별하지않다   \n",
              "9  10            이렇게 재밋게본 드라마 추노말거 없엇음 ㅜ짱            이렇게 재밋게본 드라마 추노말거 없엇음 ㅜ짱   \n",
              "\n",
              "                         tokenized_stem                             main_pos  \\\n",
              "0                      시간 때우다 좋다 영화 지루함                     시간 때우기 좋은 영화 지루함   \n",
              "2                                                                              \n",
              "5  어이 김구라 자세 좀 똑바로 앉다 방송 마다 왜케 삐 딱하다 앉다  어이 김구라 자세 좀 똑바로 앉어 방송 왜케 삐 딱하게 앉는거지   \n",
              "7                     머 내용 은 그닥 특별하다 않다                      머 내용 그닥 특별하지 않다   \n",
              "9               이렇게 재밋게본 드라마 추다 없엇음 ㅜ 짱              이렇게 재밋게본 드라마 추노말거 없엇음 짱   \n",
              "\n",
              "   pred  \n",
              "0     0  \n",
              "2     0  \n",
              "5     0  \n",
              "7     0  \n",
              "9     0  "
            ],
            "text/html": [
              "\n",
              "  <div id=\"df-5941bc70-f82f-4100-b0db-ff9c12ed8735\">\n",
              "    <div class=\"colab-df-container\">\n",
              "      <div>\n",
              "<style scoped>\n",
              "    .dataframe tbody tr th:only-of-type {\n",
              "        vertical-align: middle;\n",
              "    }\n",
              "\n",
              "    .dataframe tbody tr th {\n",
              "        vertical-align: top;\n",
              "    }\n",
              "\n",
              "    .dataframe thead th {\n",
              "        text-align: right;\n",
              "    }\n",
              "</style>\n",
              "<table border=\"1\" class=\"dataframe\">\n",
              "  <thead>\n",
              "    <tr style=\"text-align: right;\">\n",
              "      <th></th>\n",
              "      <th>id</th>\n",
              "      <th>document</th>\n",
              "      <th>preprocessed</th>\n",
              "      <th>tokenized_stem</th>\n",
              "      <th>main_pos</th>\n",
              "      <th>pred</th>\n",
              "    </tr>\n",
              "  </thead>\n",
              "  <tbody>\n",
              "    <tr>\n",
              "      <th>0</th>\n",
              "      <td>1</td>\n",
              "      <td>시간 때우기 좋은 영화 지루함</td>\n",
              "      <td>시간 때우기 좋은 영화 지루함</td>\n",
              "      <td>시간 때우다 좋다 영화 지루함</td>\n",
              "      <td>시간 때우기 좋은 영화 지루함</td>\n",
              "      <td>0</td>\n",
              "    </tr>\n",
              "    <tr>\n",
              "      <th>2</th>\n",
              "      <td>3</td>\n",
              "      <td>Childhood fantasy</td>\n",
              "      <td></td>\n",
              "      <td></td>\n",
              "      <td></td>\n",
              "      <td>0</td>\n",
              "    </tr>\n",
              "    <tr>\n",
              "      <th>5</th>\n",
              "      <td>6</td>\n",
              "      <td>어이 김구라 자세좀 똑바로 앉어방송마다 왜케 삐딱하게 앉는거지</td>\n",
              "      <td>어이 김구라 자세좀 똑바로 앉어방송마다 왜케 삐딱하게 앉는거지</td>\n",
              "      <td>어이 김구라 자세 좀 똑바로 앉다 방송 마다 왜케 삐 딱하다 앉다</td>\n",
              "      <td>어이 김구라 자세 좀 똑바로 앉어 방송 왜케 삐 딱하게 앉는거지</td>\n",
              "      <td>0</td>\n",
              "    </tr>\n",
              "    <tr>\n",
              "      <th>7</th>\n",
              "      <td>8</td>\n",
              "      <td>머 내용은 그닥... 특별하지않다</td>\n",
              "      <td>머 내용은 그닥 특별하지않다</td>\n",
              "      <td>머 내용 은 그닥 특별하다 않다</td>\n",
              "      <td>머 내용 그닥 특별하지 않다</td>\n",
              "      <td>0</td>\n",
              "    </tr>\n",
              "    <tr>\n",
              "      <th>9</th>\n",
              "      <td>10</td>\n",
              "      <td>이렇게 재밋게본 드라마 추노말거 없엇음 ㅜ짱</td>\n",
              "      <td>이렇게 재밋게본 드라마 추노말거 없엇음 ㅜ짱</td>\n",
              "      <td>이렇게 재밋게본 드라마 추다 없엇음 ㅜ 짱</td>\n",
              "      <td>이렇게 재밋게본 드라마 추노말거 없엇음 짱</td>\n",
              "      <td>0</td>\n",
              "    </tr>\n",
              "  </tbody>\n",
              "</table>\n",
              "</div>\n",
              "      <button class=\"colab-df-convert\" onclick=\"convertToInteractive('df-5941bc70-f82f-4100-b0db-ff9c12ed8735')\"\n",
              "              title=\"Convert this dataframe to an interactive table.\"\n",
              "              style=\"display:none;\">\n",
              "        \n",
              "  <svg xmlns=\"http://www.w3.org/2000/svg\" height=\"24px\"viewBox=\"0 0 24 24\"\n",
              "       width=\"24px\">\n",
              "    <path d=\"M0 0h24v24H0V0z\" fill=\"none\"/>\n",
              "    <path d=\"M18.56 5.44l.94 2.06.94-2.06 2.06-.94-2.06-.94-.94-2.06-.94 2.06-2.06.94zm-11 1L8.5 8.5l.94-2.06 2.06-.94-2.06-.94L8.5 2.5l-.94 2.06-2.06.94zm10 10l.94 2.06.94-2.06 2.06-.94-2.06-.94-.94-2.06-.94 2.06-2.06.94z\"/><path d=\"M17.41 7.96l-1.37-1.37c-.4-.4-.92-.59-1.43-.59-.52 0-1.04.2-1.43.59L10.3 9.45l-7.72 7.72c-.78.78-.78 2.05 0 2.83L4 21.41c.39.39.9.59 1.41.59.51 0 1.02-.2 1.41-.59l7.78-7.78 2.81-2.81c.8-.78.8-2.07 0-2.86zM5.41 20L4 18.59l7.72-7.72 1.47 1.35L5.41 20z\"/>\n",
              "  </svg>\n",
              "      </button>\n",
              "      \n",
              "  <style>\n",
              "    .colab-df-container {\n",
              "      display:flex;\n",
              "      flex-wrap:wrap;\n",
              "      gap: 12px;\n",
              "    }\n",
              "\n",
              "    .colab-df-convert {\n",
              "      background-color: #E8F0FE;\n",
              "      border: none;\n",
              "      border-radius: 50%;\n",
              "      cursor: pointer;\n",
              "      display: none;\n",
              "      fill: #1967D2;\n",
              "      height: 32px;\n",
              "      padding: 0 0 0 0;\n",
              "      width: 32px;\n",
              "    }\n",
              "\n",
              "    .colab-df-convert:hover {\n",
              "      background-color: #E2EBFA;\n",
              "      box-shadow: 0px 1px 2px rgba(60, 64, 67, 0.3), 0px 1px 3px 1px rgba(60, 64, 67, 0.15);\n",
              "      fill: #174EA6;\n",
              "    }\n",
              "\n",
              "    [theme=dark] .colab-df-convert {\n",
              "      background-color: #3B4455;\n",
              "      fill: #D2E3FC;\n",
              "    }\n",
              "\n",
              "    [theme=dark] .colab-df-convert:hover {\n",
              "      background-color: #434B5C;\n",
              "      box-shadow: 0px 1px 3px 1px rgba(0, 0, 0, 0.15);\n",
              "      filter: drop-shadow(0px 1px 2px rgba(0, 0, 0, 0.3));\n",
              "      fill: #FFFFFF;\n",
              "    }\n",
              "  </style>\n",
              "\n",
              "      <script>\n",
              "        const buttonEl =\n",
              "          document.querySelector('#df-5941bc70-f82f-4100-b0db-ff9c12ed8735 button.colab-df-convert');\n",
              "        buttonEl.style.display =\n",
              "          google.colab.kernel.accessAllowed ? 'block' : 'none';\n",
              "\n",
              "        async function convertToInteractive(key) {\n",
              "          const element = document.querySelector('#df-5941bc70-f82f-4100-b0db-ff9c12ed8735');\n",
              "          const dataTable =\n",
              "            await google.colab.kernel.invokeFunction('convertToInteractive',\n",
              "                                                     [key], {});\n",
              "          if (!dataTable) return;\n",
              "\n",
              "          const docLinkHtml = 'Like what you see? Visit the ' +\n",
              "            '<a target=\"_blank\" href=https://colab.research.google.com/notebooks/data_table.ipynb>data table notebook</a>'\n",
              "            + ' to learn more about interactive tables.';\n",
              "          element.innerHTML = '';\n",
              "          dataTable['output_type'] = 'display_data';\n",
              "          await google.colab.output.renderOutput(dataTable, element);\n",
              "          const docLink = document.createElement('div');\n",
              "          docLink.innerHTML = docLinkHtml;\n",
              "          element.appendChild(docLink);\n",
              "        }\n",
              "      </script>\n",
              "    </div>\n",
              "  </div>\n",
              "  "
            ]
          },
          "metadata": {}
        }
      ]
    },
    {
      "cell_type": "markdown",
      "source": [
        "## 긍정리뷰 워드클라우드"
      ],
      "metadata": {
        "id": "84p7_YFLlcyJ"
      }
    },
    {
      "cell_type": "code",
      "source": [
        "okt = Okt()\n",
        "\n",
        "content_list = list(pos['main_pos'])\n",
        "noun_list = []\n",
        "\n",
        "for sentence in content_list:\n",
        "\n",
        "\n",
        "    sentence = re.sub('[a-zA-z0-9]','', sentence)\n",
        "    \n",
        "    for word, tag in okt.pos(sentence):\n",
        "      # 명사만 추출\n",
        "        if tag in ['Noun']:  \n",
        "\n",
        "            if len(word) == 1:\n",
        "                continue\n",
        "\n",
        "            else:\n",
        "                noun_list.append(word)\n",
        "\n",
        "count = Counter(noun_list)\n",
        "poswords = dict(count.most_common(n=50)) "
      ],
      "metadata": {
        "id": "1D0_Za7PfjXV"
      },
      "execution_count": 71,
      "outputs": []
    },
    {
      "cell_type": "code",
      "source": [
        "poswords"
      ],
      "metadata": {
        "colab": {
          "base_uri": "https://localhost:8080/"
        },
        "outputId": "cc814d17-975a-4e88-c936-ed44b3046dae",
        "id": "wV0jVm0itQW7"
      },
      "execution_count": 72,
      "outputs": [
        {
          "output_type": "execute_result",
          "data": {
            "text/plain": [
              "{'가슴': 44,\n",
              " '가장': 31,\n",
              " '가족': 25,\n",
              " '감동': 149,\n",
              " '강추': 24,\n",
              " '계속': 22,\n",
              " '기억': 31,\n",
              " '눈물': 28,\n",
              " '다시': 90,\n",
              " '대박': 26,\n",
              " '드라마': 93,\n",
              " '마음': 49,\n",
              " '마지막': 56,\n",
              " '매력': 49,\n",
              " '명작': 78,\n",
              " '모습': 23,\n",
              " '배우': 58,\n",
              " '보고': 95,\n",
              " '분위기': 21,\n",
              " '사람': 38,\n",
              " '사랑': 83,\n",
              " '생각': 102,\n",
              " '스토리': 28,\n",
              " '시리즈': 22,\n",
              " '아이': 25,\n",
              " '액션': 26,\n",
              " '여운': 34,\n",
              " '역시': 53,\n",
              " '연기': 89,\n",
              " '영상': 21,\n",
              " '영화': 834,\n",
              " '완전': 59,\n",
              " '음악': 30,\n",
              " '이야기': 40,\n",
              " '이해': 23,\n",
              " '인간': 24,\n",
              " '인생': 46,\n",
              " '작품': 54,\n",
              " '장면': 40,\n",
              " '재미': 33,\n",
              " '정말': 229,\n",
              " '주인공': 24,\n",
              " '지금': 47,\n",
              " '진짜': 129,\n",
              " '처음': 27,\n",
              " '최고': 225,\n",
              " '추천': 35,\n",
              " '평점': 53,\n",
              " '하나': 34,\n",
              " '한번': 21}"
            ]
          },
          "metadata": {},
          "execution_count": 72
        }
      ]
    },
    {
      "cell_type": "code",
      "source": [
        "poswords.items()"
      ],
      "metadata": {
        "colab": {
          "base_uri": "https://localhost:8080/"
        },
        "outputId": "eabcf405-296f-4ad7-f1e5-66fffd69ce74",
        "id": "P1HzII9VtN5Z"
      },
      "execution_count": 73,
      "outputs": [
        {
          "output_type": "execute_result",
          "data": {
            "text/plain": [
              "dict_items([('영화', 834), ('정말', 229), ('최고', 225), ('감동', 149), ('진짜', 129), ('생각', 102), ('보고', 95), ('드라마', 93), ('다시', 90), ('연기', 89), ('사랑', 83), ('명작', 78), ('완전', 59), ('배우', 58), ('마지막', 56), ('작품', 54), ('평점', 53), ('역시', 53), ('마음', 49), ('매력', 49), ('지금', 47), ('인생', 46), ('가슴', 44), ('이야기', 40), ('장면', 40), ('사람', 38), ('추천', 35), ('하나', 34), ('여운', 34), ('재미', 33), ('가장', 31), ('기억', 31), ('음악', 30), ('눈물', 28), ('스토리', 28), ('처음', 27), ('대박', 26), ('액션', 26), ('가족', 25), ('아이', 25), ('인간', 24), ('주인공', 24), ('강추', 24), ('모습', 23), ('이해', 23), ('시리즈', 22), ('계속', 22), ('영상', 21), ('분위기', 21), ('한번', 21)])"
            ]
          },
          "metadata": {},
          "execution_count": 73
        }
      ]
    },
    {
      "cell_type": "code",
      "source": [
        "#특정 단어 지정해서 불용어 제거\n",
        "poswords.pop('정말')"
      ],
      "metadata": {
        "colab": {
          "base_uri": "https://localhost:8080/"
        },
        "id": "_vwFGWKQgdPK",
        "outputId": "3067e542-5646-48fd-9d2a-68f235ee4c3b"
      },
      "execution_count": 74,
      "outputs": [
        {
          "output_type": "execute_result",
          "data": {
            "text/plain": [
              "229"
            ]
          },
          "metadata": {},
          "execution_count": 74
        }
      ]
    },
    {
      "cell_type": "code",
      "source": [
        "# 불용어 리스트 생성해서 제거\n",
        "stop_words = \"다시 완전 마지막 지금 역시 영화\"\n",
        "stop_words = stop_words.split(' ')\n",
        "\n",
        "\n",
        "# 불용어 제거 실시\n",
        "posword2 = [(i,j)for i,j in poswords.items()  if i not in stop_words]\n",
        "\n",
        "# 결과 출력\n",
        "posword3=dict(posword2)\n",
        "print(posword3)"
      ],
      "metadata": {
        "colab": {
          "base_uri": "https://localhost:8080/"
        },
        "outputId": "1cc98b16-9d65-46f8-baa8-afb2e54f251a",
        "id": "0qkyktl6lP5Q"
      },
      "execution_count": 75,
      "outputs": [
        {
          "output_type": "stream",
          "name": "stdout",
          "text": [
            "{'최고': 225, '감동': 149, '진짜': 129, '생각': 102, '보고': 95, '드라마': 93, '연기': 89, '사랑': 83, '명작': 78, '배우': 58, '작품': 54, '평점': 53, '마음': 49, '매력': 49, '인생': 46, '가슴': 44, '이야기': 40, '장면': 40, '사람': 38, '추천': 35, '하나': 34, '여운': 34, '재미': 33, '가장': 31, '기억': 31, '음악': 30, '눈물': 28, '스토리': 28, '처음': 27, '대박': 26, '액션': 26, '가족': 25, '아이': 25, '인간': 24, '주인공': 24, '강추': 24, '모습': 23, '이해': 23, '시리즈': 22, '계속': 22, '영상': 21, '분위기': 21, '한번': 21}\n"
          ]
        }
      ]
    },
    {
      "cell_type": "code",
      "source": [
        "from PIL import Image, ImageFilter"
      ],
      "metadata": {
        "id": "61nBuCzsiwRU"
      },
      "execution_count": 76,
      "outputs": []
    },
    {
      "cell_type": "code",
      "source": [
        "Image.open(\"/content/drive/MyDrive/2022_Summer_Ybigta/0806_WordCloud/black_oval.png\") # 부정리뷰 워드클라우드에서는 원하는 이미지로 대체할 것"
      ],
      "metadata": {
        "colab": {
          "base_uri": "https://localhost:8080/",
          "height": 284
        },
        "id": "uhpEY13Fi5cq",
        "outputId": "9d6ed352-c617-4a04-e65e-434190e4c468"
      },
      "execution_count": 79,
      "outputs": [
        {
          "output_type": "execute_result",
          "data": {
            "text/plain": [
              "<PIL.PngImagePlugin.PngImageFile image mode=RGB size=536x267 at 0x7F5ADB094A10>"
            ],
            "image/png": "[encoded data removed]"
          },
          "metadata": {},
          "execution_count": 79
        }
      ]
    },
    {
      "cell_type": "code",
      "source": [
        "import numpy as np\n",
        "mask_array = np.array(Image.open(\"/content/drive/MyDrive/제목 없음.jpg\"))\n",
        "mask_array"
      ],
      "metadata": {
        "colab": {
          "base_uri": "https://localhost:8080/"
        },
        "id": "Abo3heX8i7gm",
        "outputId": "8bd67123-64da-41a6-c72b-7d1cc3cf07d2"
      },
      "execution_count": null,
      "outputs": [
        {
          "output_type": "execute_result",
          "data": {
            "text/plain": [
              "array([[[255, 255, 255],\n",
              "        [255, 255, 255],\n",
              "        [255, 255, 255],\n",
              "        ...,\n",
              "        [255, 255, 255],\n",
              "        [255, 255, 255],\n",
              "        [255, 255, 255]],\n",
              "\n",
              "       [[255, 255, 255],\n",
              "        [255, 255, 255],\n",
              "        [255, 255, 255],\n",
              "        ...,\n",
              "        [255, 255, 255],\n",
              "        [255, 255, 255],\n",
              "        [255, 255, 255]],\n",
              "\n",
              "       [[255, 255, 255],\n",
              "        [255, 255, 255],\n",
              "        [255, 255, 255],\n",
              "        ...,\n",
              "        [255, 255, 255],\n",
              "        [255, 255, 255],\n",
              "        [255, 255, 255]],\n",
              "\n",
              "       ...,\n",
              "\n",
              "       [[255, 255, 255],\n",
              "        [255, 255, 255],\n",
              "        [255, 255, 255],\n",
              "        ...,\n",
              "        [255, 255, 255],\n",
              "        [255, 255, 255],\n",
              "        [255, 255, 255]],\n",
              "\n",
              "       [[255, 255, 255],\n",
              "        [255, 255, 255],\n",
              "        [255, 255, 255],\n",
              "        ...,\n",
              "        [255, 255, 255],\n",
              "        [255, 255, 255],\n",
              "        [255, 255, 255]],\n",
              "\n",
              "       [[255, 255, 255],\n",
              "        [255, 255, 255],\n",
              "        [255, 255, 255],\n",
              "        ...,\n",
              "        [255, 255, 255],\n",
              "        [255, 255, 255],\n",
              "        [255, 255, 255]]], dtype=uint8)"
            ]
          },
          "metadata": {},
          "execution_count": 60
        }
      ]
    },
    {
      "cell_type": "markdown",
      "source": [
        "옵션정리\n",
        "\n",
        "alicewc = WordCloud(\n",
        "    \n",
        "    background_color = \"white\",# 배경색 설정\n",
        "\n",
        "    collocations = False, # 이때 collocations=True 이면 said King, said Hatter 같이 자주 나타나는 단어는 하나의 어구로 분류됨.\n",
        "\n",
        "    stopwords = stopwords, #불용어 지정\n",
        "\n",
        "    width = 600, height = 400, #이미지 크기 지정\n",
        "\n",
        "    colormap = \"Reds\", # 글씨 색깔 지정\n",
        "\n",
        "    #font_path = 'path입력'\n",
        "\n",
        "    min_font_size = 5, max_font_size = 100 #폰트 지정 작게할수록 더 많은 글씨가 보이고 크게하면 글자가 강조됨. \n",
        "    \n",
        "    )"
      ],
      "metadata": {
        "id": "8yi8_hsHtWYA"
      }
    },
    {
      "cell_type": "code",
      "source": [
        "mask1 = np.array(Image.open(\"/content/drive/MyDrive/2022_Summer_Ybigta/0806_WordCloud/black_oval.png\"))\n",
        "\n",
        "wordcloud = WordCloud(font_path = fontpath,\n",
        "    width = 800,\n",
        "    height = 800,\n",
        "    background_color=\"white\",\n",
        "    mask = mask1\n",
        ")\n",
        "\n",
        "wordcloud = wordcloud.generate_from_frequencies(posword3)\n",
        "plt.figure(figsize=(20, 20))\n",
        "plt.imshow(wordcloud, interpolation=\"bilinear\")\n",
        "plt.axis(\"off\")\n",
        "plt.show()"
      ],
      "metadata": {
        "colab": {
          "base_uri": "https://localhost:8080/",
          "height": 587
        },
        "outputId": "2f0b0ebc-e51a-408b-922b-d90945e5c3c5",
        "id": "CPAr-FJ3tJUl"
      },
      "execution_count": 87,
      "outputs": [
        {
          "output_type": "display_data",
          "data": {
            "text/plain": [
              "<Figure size 1440x1440 with 1 Axes>"
            ],
            "image/png": "[encoded data removed]"
          },
          "metadata": {
            "needs_background": "light"
          }
        }
      ]
    },
    {
      "cell_type": "markdown",
      "source": [
        "## # To do 부정리뷰 워드클라우드"
      ],
      "metadata": {
        "id": "vpfVIfTYlgQD"
      }
    },
    {
      "cell_type": "markdown",
      "source": [
        "부정리뷰 워드클라우드를 생성해주세요!"
      ],
      "metadata": {
        "id": "A8B6ad2Glwtu"
      }
    },
    {
      "cell_type": "code",
      "source": [
        "okt = Okt()\n",
        "\n",
        "content_list = list(neg['main_pos'])\n",
        "noun_list = []\n",
        "\n",
        "for sentence in content_list:\n",
        "\n",
        "\n",
        "    sentence = re.sub('[a-zA-z0-9]','', sentence)\n",
        "    \n",
        "    for word, tag in okt.pos(sentence):\n",
        "      # 명사만 추출\n",
        "        if tag in ['Noun']:  \n",
        "\n",
        "            if len(word) == 1:\n",
        "                continue\n",
        "\n",
        "            else:\n",
        "                noun_list.append(word)\n",
        "\n",
        "count = Counter(noun_list)\n",
        "negwords = dict(count.most_common(n=50)) "
      ],
      "metadata": {
        "id": "Pj7lsdtOHzMo"
      },
      "execution_count": 90,
      "outputs": []
    },
    {
      "cell_type": "code",
      "source": [
        "negwords.items()"
      ],
      "metadata": {
        "colab": {
          "base_uri": "https://localhost:8080/"
        },
        "id": "GHNtixaXIrOK",
        "outputId": "d8607729-0165-4ee0-fd42-2538bd6513b9"
      },
      "execution_count": 91,
      "outputs": [
        {
          "output_type": "execute_result",
          "data": {
            "text/plain": [
              "dict_items([('영화', 772), ('평점', 130), ('진짜', 130), ('스토리', 120), ('시간', 108), ('재미', 105), ('내용', 96), ('감독', 88), ('그냥', 84), ('최악', 83), ('정말', 78), ('쓰레기', 78), ('이건', 71), ('배우', 71), ('별로', 67), ('연기', 65), ('액션', 58), ('사람', 53), ('정도', 49), ('처음', 45), ('연출', 44), ('보고', 39), ('수준', 39), ('실망', 37), ('하나', 37), ('드라마', 36), ('소재', 35), ('전개', 35), ('생각', 35), ('느낌', 34), ('작품', 32), ('무슨', 32), ('코미디', 32), ('결말', 31), ('뭔가', 31), ('이해', 31), ('점도', 30), ('원작', 29), ('이야기', 29), ('공포', 28), ('전혀', 28), ('보지', 28), ('완전', 27), ('이영화', 26), ('여자', 25), ('주인공', 25), ('졸작', 25), ('캐릭터', 24), ('스릴러', 24), ('때문', 24)])"
            ]
          },
          "metadata": {},
          "execution_count": 91
        }
      ]
    },
    {
      "cell_type": "code",
      "source": [
        "# 불용어 리스트 생성해서 제거\n",
        "stop_words = \"영화 평점 내용 \"\n",
        "stop_words = stop_words.split(' ')\n",
        "\n",
        "\n",
        "# 불용어 제거 실시\n",
        "posword2 = [(i,j)for i,j in negwords.items()  if i not in stop_words]\n",
        "\n",
        "# 결과 출력\n",
        "posword3=dict(posword2)\n",
        "print(posword3)"
      ],
      "metadata": {
        "colab": {
          "base_uri": "https://localhost:8080/"
        },
        "id": "jL0OHdMeIuSM",
        "outputId": "48dd794e-affd-4b86-ae13-ed54090b53e2"
      },
      "execution_count": 95,
      "outputs": [
        {
          "output_type": "stream",
          "name": "stdout",
          "text": [
            "{'진짜': 130, '스토리': 120, '시간': 108, '재미': 105, '감독': 88, '그냥': 84, '최악': 83, '정말': 78, '쓰레기': 78, '이건': 71, '배우': 71, '별로': 67, '연기': 65, '액션': 58, '사람': 53, '정도': 49, '처음': 45, '연출': 44, '보고': 39, '수준': 39, '실망': 37, '하나': 37, '드라마': 36, '소재': 35, '전개': 35, '생각': 35, '느낌': 34, '작품': 32, '무슨': 32, '코미디': 32, '결말': 31, '뭔가': 31, '이해': 31, '점도': 30, '원작': 29, '이야기': 29, '공포': 28, '전혀': 28, '보지': 28, '완전': 27, '이영화': 26, '여자': 25, '주인공': 25, '졸작': 25, '캐릭터': 24, '스릴러': 24, '때문': 24}\n"
          ]
        }
      ]
    },
    {
      "cell_type": "code",
      "source": [
        "mask_array_neg = np.array(Image.open(\"/content/drive/MyDrive/2022_Summer_Ybigta/0806_WordCloud/heart_img.png\"))"
      ],
      "metadata": {
        "id": "78cXH6BtHbBw"
      },
      "execution_count": 93,
      "outputs": []
    },
    {
      "cell_type": "code",
      "source": [
        "\n",
        "wordcloud = WordCloud(font_path = fontpath,\n",
        "    width = 800,\n",
        "    height = 800,\n",
        "    background_color=\"white\",\n",
        "    mask = mask_array_neg\n",
        ")\n",
        "\n",
        "wordcloud = wordcloud.generate_from_frequencies(posword3)\n",
        "plt.figure(figsize=(20, 20))\n",
        "plt.imshow(wordcloud, interpolation=\"bilinear\")\n",
        "plt.axis(\"off\")\n",
        "plt.show()"
      ],
      "metadata": {
        "colab": {
          "base_uri": "https://localhost:8080/",
          "height": 995
        },
        "id": "cppKqWyeIvt0",
        "outputId": "65d6409b-aaa5-419f-f259-87370b9292fd"
      },
      "execution_count": 96,
      "outputs": [
        {
          "output_type": "display_data",
          "data": {
            "text/plain": [
              "<Figure size 1440x1440 with 1 Axes>"
            ],
            "image/png": "[encoded data removed]"
          },
          "metadata": {
            "needs_background": "light"
          }
        }
      ]
    },
    {
      "cell_type": "code",
      "source": [
        ""
      ],
      "metadata": {
        "id": "B1o1h8OZI3Xh"
      },
      "execution_count": null,
      "outputs": []
    }
  ],
  "metadata": {
    "kernelspec": {
      "display_name": "eunil_py38",
      "language": "python",
      "name": "eunil_py38"
    },
    "language_info": {
      "codemirror_mode": {
        "name": "ipython",
        "version": 3
      },
      "file_extension": ".py",
      "mimetype": "text/x-python",
      "name": "python",
      "nbconvert_exporter": "python",
      "pygments_lexer": "ipython3",
      "version": "3.8.12"
    },
    "colab": {
      "name": "Copy of wordcloudkonlpy과제.ipynb",
      "provenance": [],
      "collapsed_sections": []
    }
  },
  "nbformat": 4,
  "nbformat_minor": 0
}